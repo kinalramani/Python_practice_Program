{
 "cells": [
  {
   "cell_type": "code",
   "execution_count": 3,
   "metadata": {},
   "outputs": [
    {
     "name": "stdout",
     "output_type": "stream",
     "text": [
      "2\n"
     ]
    }
   ],
   "source": [
    "'''\n",
    "Define a function max() that takes two numbers as arguments and returns\n",
    "the largest of them. Use the if-then-else construct available in Python.\n",
    "(It is true that Python has the max() function built in, but writing it\n",
    "yourself is nevertheless a good exercise.)\n",
    "'''\n",
    "def max1(a,b):\n",
    "    if a>b:\n",
    "        return a\n",
    "    else:\n",
    "        return b\n",
    "m=max1(1,2)\n",
    "print(m)"
   ]
  },
  {
   "cell_type": "code",
   "execution_count": 5,
   "metadata": {},
   "outputs": [
    {
     "name": "stdout",
     "output_type": "stream",
     "text": [
      "5\n"
     ]
    }
   ],
   "source": [
    "'''\n",
    "Define a function max_of_three() that takes three numbers as\n",
    "arguments and returns the largest of them.\n",
    "'''\n",
    "def Max_of_three(a,b,c):\n",
    "    if a>c and a>b:\n",
    "        return a\n",
    "    elif b>c:\n",
    "        return b\n",
    "    else:\n",
    "        return c\n",
    "m=Max_of_three(5,2,4)\n",
    "print(m)\n",
    "        "
   ]
  },
  {
   "cell_type": "code",
   "execution_count": 6,
   "metadata": {},
   "outputs": [
    {
     "name": "stdout",
     "output_type": "stream",
     "text": [
      "False\n"
     ]
    }
   ],
   "source": [
    "'''\n",
    "Write a function that takes a character\n",
    "i.e. a string of length 1) and returns True if \n",
    "it is a vowel, False otherwise.\n",
    "'''\n",
    "def vowel(x):\n",
    "    if x in ('aeiou'):\n",
    "        return True\n",
    "    else:\n",
    "        return False\n",
    "v=vowel('d')\n",
    "print(v)\n"
   ]
  },
  {
   "cell_type": "code",
   "execution_count": 5,
   "metadata": {},
   "outputs": [
    {
     "name": "stdout",
     "output_type": "stream",
     "text": [
      "3\n"
     ]
    }
   ],
   "source": [
    "a  = 'abd'\n",
    "\n",
    "def length(x):\n",
    "    sum=0\n",
    "    for _ in a:\n",
    "        sum = sum +1 \n",
    "    return sum \n",
    "l=length(a)\n",
    "print(l)"
   ]
  },
  {
   "cell_type": "code",
   "execution_count": 11,
   "metadata": {},
   "outputs": [
    {
     "name": "stdout",
     "output_type": "stream",
     "text": [
      "s\n",
      "None\n"
     ]
    }
   ],
   "source": [
    "\n",
    "\n",
    "def translate(x):\n",
    "    s = ''\n",
    "    for i in x:\n",
    "        if i not in ('aeiou'):\n",
    "            s += i + \"o\" + i\n",
    "        else:\n",
    "            s += i \n",
    "    print ('s') \n",
    "t=translate(\"this is fun\")  \n",
    "print(t)"
   ]
  },
  {
   "cell_type": "code",
   "execution_count": 1,
   "metadata": {},
   "outputs": [
    {
     "name": "stdout",
     "output_type": "stream",
     "text": [
      "s\n"
     ]
    }
   ],
   "source": [
    "\n",
    "'''\n",
    "Write a function translate() that will translate a text into \"r�varspr�ket\" (Swedish for \"robber's language\"). \n",
    "That is, double every consonant and place an occurrence of \"o\" in between. \n",
    "For example, translate(\"this is fun\") should return the string \"tothohisos isos fofunon\".\n",
    "'''\n",
    "\n",
    "def translate(x):\n",
    "    s = ''\n",
    "    for i in x:\n",
    "        if i not in ('aeiou'):\n",
    "            s += i + \"o\" + i\n",
    "        else:\n",
    "            s += i \n",
    "    print ('s')\n",
    "    \n",
    "translate(\"this is fun\")\n",
    "\n",
    "    \n",
    "    \n",
    "    \n",
    "    "
   ]
  }
 ],
 "metadata": {
  "kernelspec": {
   "display_name": "Python 3",
   "language": "python",
   "name": "python3"
  },
  "language_info": {
   "codemirror_mode": {
    "name": "ipython",
    "version": 3
   },
   "file_extension": ".py",
   "mimetype": "text/x-python",
   "name": "python",
   "nbconvert_exporter": "python",
   "pygments_lexer": "ipython3",
   "version": "3.11.1"
  }
 },
 "nbformat": 4,
 "nbformat_minor": 2
}
