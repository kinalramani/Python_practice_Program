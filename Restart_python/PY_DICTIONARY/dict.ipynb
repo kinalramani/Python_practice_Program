{
 "cells": [
  {
   "cell_type": "code",
   "execution_count": 24,
   "metadata": {},
   "outputs": [
    {
     "name": "stdout",
     "output_type": "stream",
     "text": [
      "ki\n",
      "ki\n",
      "dict_keys(['name', 'age'])\n",
      "dict_items([('name', 'ki'), ('age', 15)])\n",
      "dict_values(['ki', 15])\n",
      "yes\n",
      "ji\n",
      "None\n",
      "{'name': 'ji', 'age': 15, 'country': 'india', 'color': 'red'}\n",
      "{'age': 15, 'country': 'india', 'color': 'red'}\n",
      "{'age': 15, 'country': 'india'}\n",
      "{}\n"
     ]
    }
   ],
   "source": [
    "#  Access Dictionary Items\n",
    "dict={\"name\":\"ki\",\"age\":15}\n",
    "print(dict[\"name\"])\n",
    "print(dict.get(\"name\"))\n",
    "print(dict.keys())\n",
    "print(dict.items())\n",
    "print(dict.values())\n",
    "\n",
    "# Check if Key Exists\n",
    "dict = {\"name\":\"ki\",\"age\":15}\n",
    "if \"name\" in dict:\n",
    "    print(\"yes\")\n",
    "\n",
    "# Change Values\n",
    "dict = {\"name\":\"ki\",\"age\":15}\n",
    "x=dict[\"name\"]=\"ji\"\n",
    "print(x)\n",
    "a=dict.update({\"country\":\"india\"})\n",
    "print(a)\n",
    "dict[\"color\"]=\"red\"  # add items\n",
    "print(dict)\n",
    "\n",
    "dict.pop(\"name\")\n",
    "print(dict)\n",
    "dict.popitem()\n",
    "print(dict)\n",
    "dict.clear()\n",
    "print(dict)"
   ]
  },
  {
   "cell_type": "code",
   "execution_count": 26,
   "metadata": {},
   "outputs": [],
   "source": [
    "# Nested Dictionaries\n",
    "my={\n",
    "    \"child1\":{\n",
    "        \"name\":\"ki\",\n",
    "        \"year\":2003\n",
    "    },\n",
    "    \"child2\":{\n",
    "        \"name\":\"li\",\n",
    "        \"year\":4363\n",
    "    }\n",
    "}"
   ]
  },
  {
   "cell_type": "code",
   "execution_count": 28,
   "metadata": {},
   "outputs": [],
   "source": []
  }
 ],
 "metadata": {
  "kernelspec": {
   "display_name": "Python 3",
   "language": "python",
   "name": "python3"
  },
  "language_info": {
   "codemirror_mode": {
    "name": "ipython",
    "version": 3
   },
   "file_extension": ".py",
   "mimetype": "text/x-python",
   "name": "python",
   "nbconvert_exporter": "python",
   "pygments_lexer": "ipython3",
   "version": "3.11.1"
  }
 },
 "nbformat": 4,
 "nbformat_minor": 2
}
