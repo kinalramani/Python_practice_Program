{
 "cells": [
  {
   "cell_type": "code",
   "execution_count": 5,
   "metadata": {},
   "outputs": [
    {
     "name": "stdout",
     "output_type": "stream",
     "text": [
      "5\n",
      "hello\n",
      "3\n",
      "3\n",
      "3.0\n",
      "<class 'int'>\n",
      "<class 'float'>\n",
      "<class 'str'>\n",
      "5\n",
      "hello\n"
     ]
    }
   ],
   "source": [
    "# Creating Variables\n",
    "a=5\n",
    "b=\"hello\"\n",
    "print(a)\n",
    "print(b)\n",
    "\n",
    "# Casting\n",
    "print(int(3))\n",
    "print(str(3))\n",
    "print(float(3))\n",
    "\n",
    "# Get the Type\n",
    "a=5\n",
    "b=3.6\n",
    "c=\"hello\"\n",
    "print(type(a))\n",
    "print(type(b))\n",
    "print(type(c))\n",
    "\n",
    "# Case-Sensitive\n",
    "a=5\n",
    "A=\"hello\"\n",
    "print(a)\n",
    "print(A)"
   ]
  },
  {
   "cell_type": "code",
   "execution_count": 9,
   "metadata": {},
   "outputs": [
    {
     "name": "stdout",
     "output_type": "stream",
     "text": [
      "apple\n",
      "banana\n",
      "8\n",
      "ki\n",
      "ki\n",
      "ki\n",
      "apple\n",
      "banana\n",
      "kiwi\n"
     ]
    }
   ],
   "source": [
    "# Many Values to Multiple Variables\n",
    "a,b,c=\"apple\",\"banana\",8\n",
    "print(a)\n",
    "print(b)\n",
    "print(c)\n",
    "\n",
    "# One Value to Multiple Variables\n",
    "a=b=c=\"ki\"\n",
    "print(a)\n",
    "print(b)\n",
    "print(c)\n",
    "\n",
    "# Unpack a Collection\n",
    "fruits=[\"apple\",\"banana\",\"kiwi\"]\n",
    "a,b,c=fruits\n",
    "print(a)\n",
    "print(b)\n",
    "print(c)\n"
   ]
  },
  {
   "cell_type": "code",
   "execution_count": 10,
   "metadata": {},
   "outputs": [
    {
     "name": "stdout",
     "output_type": "stream",
     "text": [
      "hello im j\n"
     ]
    }
   ],
   "source": [
    "# Output Variables\n",
    "a=\"hello im j\"\n",
    "print(a)"
   ]
  },
  {
   "cell_type": "code",
   "execution_count": 22,
   "metadata": {},
   "outputs": [
    {
     "name": "stdout",
     "output_type": "stream",
     "text": [
      "everyone hello\n",
      "everyone pretty\n",
      "hi hello\n",
      "everyone hello\n"
     ]
    }
   ],
   "source": [
    "# global Variables\n",
    "x=\"hello\"\n",
    "def func():\n",
    "    print(\"everyone \" + x)\n",
    "func()\n",
    "\n",
    "#create a same name of variable\n",
    "x=\"hello\"\n",
    "def func():\n",
    "    x=\"pretty\"\n",
    "    print(\"everyone \" + x)\n",
    "func()\n",
    "print(\"hi \"+ x)\n",
    "\n",
    "\n",
    "# The global Keyword\n",
    "# x=\"hi\"\n",
    "def func():    #If you use the global keyword, the variable belongs to the global scope\n",
    "    global x\n",
    "    x=\"hello\"\n",
    "    # print(\"everyone \"+x)\n",
    "func()\n",
    "print(\"everyone \"+x)\n",
    "\n",
    "\n",
    "\n"
   ]
  }
 ],
 "metadata": {
  "kernelspec": {
   "display_name": "Python 3",
   "language": "python",
   "name": "python3"
  },
  "language_info": {
   "codemirror_mode": {
    "name": "ipython",
    "version": 3
   },
   "file_extension": ".py",
   "mimetype": "text/x-python",
   "name": "python",
   "nbconvert_exporter": "python",
   "pygments_lexer": "ipython3",
   "version": "3.11.1"
  }
 },
 "nbformat": 4,
 "nbformat_minor": 2
}
