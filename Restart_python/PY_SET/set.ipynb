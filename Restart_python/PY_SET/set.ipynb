{
 "cells": [
  {
   "cell_type": "code",
   "execution_count": 7,
   "metadata": {},
   "outputs": [
    {
     "name": "stdout",
     "output_type": "stream",
     "text": [
      "{'kiwi', 'apple', 'watermelon'}\n",
      "{False, True, 'watermelon', 2, 'apple', 'kiwi'}\n"
     ]
    }
   ],
   "source": [
    "set={\"apple\",\"watermelon\",\"kiwi\"}\n",
    "print(set)\n",
    "\n",
    "set1={\"apple\",\"watermelon\",\"kiwi\",\"apple\",True,False,0,1,2}    #duplication will be ignored like \"apple\"\n",
    "print(set1)                                             #True,False,0 and 1 considered are same value\n"
   ]
  },
  {
   "cell_type": "code",
   "execution_count": 9,
   "metadata": {},
   "outputs": [
    {
     "ename": "NameError",
     "evalue": "name 'byte' is not defined",
     "output_type": "error",
     "traceback": [
      "\u001b[1;31m---------------------------------------------------------------------------\u001b[0m",
      "\u001b[1;31mNameError\u001b[0m                                 Traceback (most recent call last)",
      "Cell \u001b[1;32mIn[9], line 1\u001b[0m\n\u001b[1;32m----> 1\u001b[0m x \u001b[38;5;241m=\u001b[39m \u001b[43mbyte\u001b[49m(\u001b[38;5;241m23\u001b[39m)\n\u001b[0;32m      2\u001b[0m y\u001b[38;5;241m=\u001b[39m byte(\u001b[38;5;241m23\u001b[39m)\n\u001b[0;32m      4\u001b[0m \u001b[38;5;28mprint\u001b[39m(\u001b[38;5;28mmemoryview\u001b[39m(x))\n",
      "\u001b[1;31mNameError\u001b[0m: name 'byte' is not defined"
     ]
    }
   ],
   "source": [
    "x = byte(23)\n",
    "y= byte(23)\n",
    "\n",
    "print(memoryview(x))\n",
    "print(memoryview(y))\n"
   ]
  },
  {
   "cell_type": "code",
   "execution_count": 11,
   "metadata": {},
   "outputs": [
    {
     "name": "stdout",
     "output_type": "stream",
     "text": [
      "kiwi\n",
      "apple\n",
      "banana\n",
      "True\n"
     ]
    }
   ],
   "source": [
    "# Access Set Items\n",
    "thisset={\"apple\",\"banana\",\"kiwi\"}\n",
    "for i in thisset:\n",
    "    print(i)\n",
    "print(\"banana\" in thisset)"
   ]
  },
  {
   "cell_type": "code",
   "execution_count": 12,
   "metadata": {},
   "outputs": [
    {
     "name": "stdout",
     "output_type": "stream",
     "text": [
      "{'apple', 'watermelon', 'banana', 'kiwi'}\n",
      "{'hbdc', 'banana', 'kiwi', 'apple', 'uib', 'bcj'}\n"
     ]
    }
   ],
   "source": [
    "#  Add Set Items\n",
    "set={\"apple\",\"banana\",\"kiwi\"}\n",
    "set.add(\"watermelon\")\n",
    "print(set)\n",
    "\n",
    "# Add Sets\n",
    "set1={\"apple\",\"banana\",\"kiwi\"}\n",
    "set2=[\"bcj\",\"hbdc\",\"uib\"]\n",
    "set1.update(set2)\n",
    "print(set1)"
   ]
  },
  {
   "cell_type": "code",
   "execution_count": 22,
   "metadata": {},
   "outputs": [
    {
     "name": "stdout",
     "output_type": "stream",
     "text": [
      "{'banana', 'kiwi'}\n",
      "apple\n",
      "{'banana', 'kiwi'}\n",
      "set()\n"
     ]
    }
   ],
   "source": [
    "# Remove Item\n",
    "set1={\"apple\",\"banana\",\"kiwi\"} #discard() also use\n",
    "set1.remove(\"apple\")\n",
    "print(set1)\n",
    "\n",
    "thisset={\"apple\",\"banana\",\"kiwi\"}\n",
    "s=thisset.pop()\n",
    "print(s)\n",
    "print(thisset)\n",
    "\n",
    "set1={\"apple\",\"banana\",\"kiwi\"} #set is empty\n",
    "set1.clear()\n",
    "print(set1)\n"
   ]
  },
  {
   "cell_type": "code",
   "execution_count": 23,
   "metadata": {},
   "outputs": [
    {
     "ename": "NameError",
     "evalue": "name 'set1' is not defined",
     "output_type": "error",
     "traceback": [
      "\u001b[1;31m---------------------------------------------------------------------------\u001b[0m",
      "\u001b[1;31mNameError\u001b[0m                                 Traceback (most recent call last)",
      "Cell \u001b[1;32mIn[23], line 3\u001b[0m\n\u001b[0;32m      1\u001b[0m set1\u001b[38;5;241m=\u001b[39m{\u001b[38;5;124m\"\u001b[39m\u001b[38;5;124mapple\u001b[39m\u001b[38;5;124m\"\u001b[39m,\u001b[38;5;124m\"\u001b[39m\u001b[38;5;124mbanana\u001b[39m\u001b[38;5;124m\"\u001b[39m,\u001b[38;5;124m\"\u001b[39m\u001b[38;5;124mkiwi\u001b[39m\u001b[38;5;124m\"\u001b[39m}\n\u001b[0;32m      2\u001b[0m \u001b[38;5;28;01mdel\u001b[39;00m set1\n\u001b[1;32m----> 3\u001b[0m \u001b[38;5;28mprint\u001b[39m(\u001b[43mset1\u001b[49m)\n",
      "\u001b[1;31mNameError\u001b[0m: name 'set1' is not defined"
     ]
    }
   ],
   "source": [
    "set1={\"apple\",\"banana\",\"kiwi\"} #this will raise an error because the set no longer exists\n",
    "del set1\n",
    "print(set1)"
   ]
  },
  {
   "cell_type": "code",
   "execution_count": 24,
   "metadata": {},
   "outputs": [
    {
     "name": "stdout",
     "output_type": "stream",
     "text": [
      "apple\n",
      "banana\n",
      "kiwi\n"
     ]
    }
   ],
   "source": [
    "# Loop Items\n",
    "set1={\"apple\",\"banana\",\"kiwi\"}\n",
    "for i in set1:\n",
    "    print(i)"
   ]
  },
  {
   "cell_type": "code",
   "execution_count": 41,
   "metadata": {},
   "outputs": [
    {
     "name": "stdout",
     "output_type": "stream",
     "text": [
      "{'b', 'a', 'c'}\n",
      "{'b', 1, 2, 3, 'a', 'c'}\n",
      "{'b', 1, 2, 3, 'a', 'bananas', 'c', 'John', 'apple', 'Elena', 'cherry'}\n",
      "{'b', 1, 2, 3, 'a', 'bananas', 'c', 'John', 'apple', 'Elena', 'cherry'}\n",
      "{'b', 1, 2, 3, 'a', 'c'}\n",
      "{False, True, 'apple'}\n",
      "{False, True, 'apple'}\n",
      "{False, True, 'apple'}\n"
     ]
    }
   ],
   "source": [
    "# Union\n",
    "set1 = {\"a\", \"b\", \"c\"}\n",
    "set2 = {1, 2, 3}\n",
    "set1.union(set2)\n",
    "print(set1)\n",
    "\n",
    "set3=set1|set2\n",
    "print(set3)\n",
    "\n",
    "# Join Multiple Sets\n",
    "set1 = {\"a\", \"b\", \"c\"}\n",
    "set2 = {1, 2, 3}\n",
    "set3 = {\"John\", \"Elena\"}\n",
    "set4 = {\"apple\", \"bananas\", \"cherry\"}\n",
    "myset=set1.union(set2,set3,set4)\n",
    "print(myset)\n",
    "\n",
    "my=set1|set2|set3|set4\n",
    "print(my)\n",
    "\n",
    "# Join a Set and a Tuple\n",
    "x = {\"a\", \"b\", \"c\"}\n",
    "y = (1, 2, 3)\n",
    "a=x.union(y)\n",
    "print(a)\n",
    "\n",
    "\n",
    "# # intersection()\n",
    "set1 = {\"apple\",1, \"banana\", 0,\"cherry\"}\n",
    "set2 = {\"google\",False, \"microsoft\", True,\"apple\"}\n",
    "s=set1.intersection(set2)\n",
    "print(s)\n",
    "s1=set1&set2\n",
    "print(s1)\n",
    "set1.intersection_update(set2)\n",
    "print(set1)"
   ]
  },
  {
   "cell_type": "code",
   "execution_count": 52,
   "metadata": {},
   "outputs": [
    {
     "name": "stdout",
     "output_type": "stream",
     "text": [
      "{'banana', 'cherry'}\n",
      "{'banana', 'cherry'}\n",
      "{'banana', 'cherry'}\n",
      "{'banana', 'google', 'cherry', 'microsoft'}\n",
      "{'banana', 'google', 'cherry', 'microsoft'}\n",
      "{'banana', 'google', 'cherry', 'microsoft'}\n"
     ]
    }
   ],
   "source": [
    "# Difference\n",
    "set1 = {\"apple\", \"banana\", \"cherry\"}\n",
    "set2 = {\"google\", \"microsoft\", \"apple\"}\n",
    "s=set1.difference(set2)\n",
    "print(s)\n",
    "s=set1-set2\n",
    "print(s)\n",
    "set1.difference_update(set2)\n",
    "print(set1)\n",
    "\n",
    "# Symmetric Differences\n",
    "set1 = {\"apple\", \"banana\", \"cherry\"}\n",
    "set2 = {\"google\", \"microsoft\", \"apple\"}\n",
    "s=set1.symmetric_difference(set2)\n",
    "print(s)\n",
    "s=set1^set2\n",
    "print(s)\n",
    "set1.symmetric_difference_update(set2)\n",
    "print(set1)\n"
   ]
  }
 ],
 "metadata": {
  "kernelspec": {
   "display_name": "Python 3",
   "language": "python",
   "name": "python3"
  },
  "language_info": {
   "codemirror_mode": {
    "name": "ipython",
    "version": 3
   },
   "file_extension": ".py",
   "mimetype": "text/x-python",
   "name": "python",
   "nbconvert_exporter": "python",
   "pygments_lexer": "ipython3",
   "version": "3.11.1"
  }
 },
 "nbformat": 4,
 "nbformat_minor": 2
}
