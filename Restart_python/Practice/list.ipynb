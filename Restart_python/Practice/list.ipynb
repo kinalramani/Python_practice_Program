{
 "cells": [
  {
   "cell_type": "code",
   "execution_count": 12,
   "metadata": {},
   "outputs": [
    {
     "name": "stdout",
     "output_type": "stream",
     "text": [
      "[9, 36, 81]\n"
     ]
    }
   ],
   "source": [
    "list=[]\n",
    "for i in range(1,11):\n",
    "    if i%3==0:\n",
    "        square=i*i\n",
    "        list.append(square)\n",
    "print(list)\n",
    "    \n",
    "    \n",
    " "
   ]
  },
  {
   "cell_type": "code",
   "execution_count": 45,
   "metadata": {},
   "outputs": [
    {
     "name": "stdout",
     "output_type": "stream",
     "text": [
      "[8, 6, 4, 2]\n"
     ]
    }
   ],
   "source": [
    "def func(list1):\n",
    "    \n",
    "    li=[]\n",
    "    for i in list1:\n",
    "        if i%2==0:\n",
    "            li.append(i)\n",
    "    a=sorted(li)\n",
    "    return a[::-1]\n",
    "list_input=input().split(\",\")\n",
    "li1=[]\n",
    "for num in list_input:\n",
    "    b=int(num)\n",
    "    li1.append(b)\n",
    "\n",
    "\n",
    "obj=func(li1)\n",
    "print(obj)\n"
   ]
  },
  {
   "cell_type": "code",
   "execution_count": 54,
   "metadata": {},
   "outputs": [
    {
     "name": "stdout",
     "output_type": "stream",
     "text": [
      "[1, 2, 3, 4, 5, 6]\n"
     ]
    },
    {
     "ename": "ValueError",
     "evalue": "invalid literal for int() with base 10: ''",
     "output_type": "error",
     "traceback": [
      "\u001b[1;31m---------------------------------------------------------------------------\u001b[0m",
      "\u001b[1;31mValueError\u001b[0m                                Traceback (most recent call last)",
      "Cell \u001b[1;32mIn[54], line 14\u001b[0m\n\u001b[0;32m     11\u001b[0m \u001b[38;5;28mprint\u001b[39m(li1)\n\u001b[0;32m     13\u001b[0m \u001b[38;5;28;01mfor\u001b[39;00m i \u001b[38;5;129;01min\u001b[39;00m new_input2:\n\u001b[1;32m---> 14\u001b[0m     b1\u001b[38;5;241m=\u001b[39m\u001b[38;5;28;43mint\u001b[39;49m\u001b[43m(\u001b[49m\u001b[43mi\u001b[49m\u001b[43m)\u001b[49m\n\u001b[0;32m     15\u001b[0m     li2\u001b[38;5;241m.\u001b[39mappend(b1)\n\u001b[0;32m     16\u001b[0m \u001b[38;5;28mprint\u001b[39m(li2)\n",
      "\u001b[1;31mValueError\u001b[0m: invalid literal for int() with base 10: ''"
     ]
    }
   ],
   "source": [
    "# li1=[2,5,6,8,9,1]\n",
    "# li2=[2,5,4,8,3,10,11,12]\n",
    "\n",
    "new_input=input().split(\",\")\n",
    "new_input2=input().split(\",\")\n",
    "li1=[]\n",
    "li2=[]\n",
    "for i in new_input:\n",
    "    a1=int(i)\n",
    "    li1.append(a1)\n",
    "print(li1)\n",
    "\n",
    "for i in new_input2:\n",
    "    b1=int(i)\n",
    "    li2.append(b1)\n",
    "print(li2)\n",
    "        \n",
    "\n",
    "\n",
    "new_list=li1+li2\n",
    "print(new_list)\n",
    "\n",
    "\n",
    "new_list.sort()\n",
    "print(new_list)\n",
    "\n",
    "new=set(new_list)\n",
    "print (list(new))"
   ]
  },
  {
   "cell_type": "code",
   "execution_count": null,
   "metadata": {},
   "outputs": [],
   "source": []
  }
 ],
 "metadata": {
  "kernelspec": {
   "display_name": "Python 3",
   "language": "python",
   "name": "python3"
  },
  "language_info": {
   "codemirror_mode": {
    "name": "ipython",
    "version": 3
   },
   "file_extension": ".py",
   "mimetype": "text/x-python",
   "name": "python",
   "nbconvert_exporter": "python",
   "pygments_lexer": "ipython3",
   "version": "3.11.1"
  }
 },
 "nbformat": 4,
 "nbformat_minor": 2
}
