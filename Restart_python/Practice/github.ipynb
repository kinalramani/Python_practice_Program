{
 "cells": [
  {
   "cell_type": "code",
   "execution_count": 3,
   "metadata": {},
   "outputs": [
    {
     "name": "stdout",
     "output_type": "stream",
     "text": [
      "2030,2065,2100,2135,2170,2205,2240,2275,2310,2345,2380,2415,2450,2485,2520,2555,2590,2625,2660,2695,2730,2765,2800,2835,2870,2905,2940,2975,3010,3045,3080,3115,3150,3185\n"
     ]
    }
   ],
   "source": [
    "l=[]\n",
    "for i in range(2000,3201):\n",
    "    if (i%5==0) and (i%7==0):\n",
    "        l.append(str(i))\n",
    "print(','.join(l))"
   ]
  },
  {
   "cell_type": "code",
   "execution_count": 16,
   "metadata": {},
   "outputs": [
    {
     "name": "stdout",
     "output_type": "stream",
     "text": [
      "120\n"
     ]
    }
   ],
   "source": [
    "num=int(input(\"Enter your number:\"))\n",
    "def fact(num):\n",
    "    factorial=1\n",
    "    for i in range(1,num+1):\n",
    "        factorial*=i\n",
    "    return factorial\n",
    "print(fact(num))\n",
    "# result=fact(num)\n",
    "# print(result)\n",
    "    "
   ]
  },
  {
   "cell_type": "code",
   "execution_count": 23,
   "metadata": {},
   "outputs": [
    {
     "name": "stdout",
     "output_type": "stream",
     "text": [
      "40320\n"
     ]
    }
   ],
   "source": [
    "\n",
    "result = 1\n",
    "for i in range(1, number + 1):\n",
    "    result *= i\n",
    "   \n",
    "number = int(input(\"Enter a number to compute its factorial: \"))\n",
    "print(result)\n"
   ]
  },
  {
   "cell_type": "code",
   "execution_count": 29,
   "metadata": {},
   "outputs": [
    {
     "name": "stdout",
     "output_type": "stream",
     "text": [
      "{1: 1, 2: 4, 3: 9, 4: 16, 5: 25, 6: 36, 7: 49, 8: 64}\n"
     ]
    }
   ],
   "source": [
    "n=int(input(\"Enter your number:\"))\n",
    "dict1={}\n",
    "for i in range(1,n+1):\n",
    "    dict1[i]=i*i\n",
    "print(dict1)"
   ]
  },
  {
   "cell_type": "code",
   "execution_count": 35,
   "metadata": {},
   "outputs": [
    {
     "name": "stdout",
     "output_type": "stream",
     "text": [
      "['12', '25', '32', '65', '22', '52', '54']\n",
      "('12', '25', '32', '65', '22', '52', '54')\n"
     ]
    }
   ],
   "source": [
    "n=(input(\"Enter your number:\"))\n",
    "l=n.split(\",\")\n",
    "t=tuple(l)\n",
    "print(l)\n",
    "print(t)"
   ]
  },
  {
   "cell_type": "code",
   "execution_count": 38,
   "metadata": {},
   "outputs": [
    {
     "name": "stdout",
     "output_type": "stream",
     "text": [
      "PYTHON\n"
     ]
    }
   ],
   "source": [
    "class Inputoutstring(object):\n",
    "    def __init__(self):\n",
    "        self.s=\"\"\n",
    "    def getstring(self):\n",
    "        self.s=input()\n",
    "    def printstring(self):\n",
    "        print(self.s.upper())\n",
    "obj=Inputoutstring()\n",
    "obj.getstring()\n",
    "obj.printstring()"
   ]
  },
  {
   "cell_type": "code",
   "execution_count": 49,
   "metadata": {},
   "outputs": [
    {
     "name": "stdout",
     "output_type": "stream",
     "text": [
      "husyh,kinal,ramani\n"
     ]
    }
   ],
   "source": [
    "item=[x for x in input().split(',')]\n",
    "item.sort()\n",
    "print(','.join(item))"
   ]
  },
  {
   "cell_type": "code",
   "execution_count": 47,
   "metadata": {},
   "outputs": [
    {
     "ename": "AttributeError",
     "evalue": "'str' object has no attribute 'sort'",
     "output_type": "error",
     "traceback": [
      "\u001b[1;31m---------------------------------------------------------------------------\u001b[0m",
      "\u001b[1;31mAttributeError\u001b[0m                            Traceback (most recent call last)",
      "Cell \u001b[1;32mIn[47], line 2\u001b[0m\n\u001b[0;32m      1\u001b[0m \u001b[38;5;28;01mfor\u001b[39;00m i \u001b[38;5;129;01min\u001b[39;00m \u001b[38;5;28minput\u001b[39m()\u001b[38;5;241m.\u001b[39msplit(\u001b[38;5;124m'\u001b[39m\u001b[38;5;124m,\u001b[39m\u001b[38;5;124m'\u001b[39m):\n\u001b[1;32m----> 2\u001b[0m     \u001b[43mi\u001b[49m\u001b[38;5;241;43m.\u001b[39;49m\u001b[43msort\u001b[49m()\n\u001b[0;32m      3\u001b[0m \u001b[38;5;28mprint\u001b[39m(\u001b[38;5;124m'\u001b[39m\u001b[38;5;124m,\u001b[39m\u001b[38;5;124m'\u001b[39m\u001b[38;5;241m.\u001b[39mjoin(i))\n",
      "\u001b[1;31mAttributeError\u001b[0m: 'str' object has no attribute 'sort'"
     ]
    }
   ],
   "source": [
    "\n",
    "for i in input().split(','):\n",
    "    i.sort()\n",
    "print(','.join(i))"
   ]
  },
  {
   "cell_type": "code",
   "execution_count": 52,
   "metadata": {},
   "outputs": [
    {
     "name": "stdout",
     "output_type": "stream",
     "text": [
      "HELLO WORLD PRACTICE MAKES PERFECT THEN\n"
     ]
    }
   ],
   "source": [
    "lines=[]\n",
    "while True:\n",
    "    s=input()\n",
    "    if s:\n",
    "        lines.append(s.upper())\n",
    "    else:\n",
    "        break\n",
    "for i in lines:\n",
    "    print(i)\n"
   ]
  },
  {
   "cell_type": "code",
   "execution_count": 54,
   "metadata": {},
   "outputs": [
    {
     "ename": "TypeError",
     "evalue": "'str' object is not callable",
     "output_type": "error",
     "traceback": [
      "\u001b[1;31m---------------------------------------------------------------------------\u001b[0m",
      "\u001b[1;31mTypeError\u001b[0m                                 Traceback (most recent call last)",
      "Cell \u001b[1;32mIn[54], line 3\u001b[0m\n\u001b[0;32m      1\u001b[0m value\u001b[38;5;241m=\u001b[39m[]\n\u001b[0;32m      2\u001b[0m \u001b[38;5;28;01mfor\u001b[39;00m i \u001b[38;5;129;01min\u001b[39;00m \u001b[38;5;28mrange\u001b[39m(\u001b[38;5;241m1000\u001b[39m,\u001b[38;5;241m3001\u001b[39m):\n\u001b[1;32m----> 3\u001b[0m     s\u001b[38;5;241m=\u001b[39m\u001b[38;5;28;43mstr\u001b[39;49m\u001b[43m(\u001b[49m\u001b[43mi\u001b[49m\u001b[43m)\u001b[49m\n\u001b[0;32m      4\u001b[0m     \u001b[38;5;28;01mif\u001b[39;00m (\u001b[38;5;28mstr\u001b[39m(s[\u001b[38;5;241m0\u001b[39m])\u001b[38;5;241m%\u001b[39m\u001b[38;5;241m2\u001b[39m\u001b[38;5;241m==\u001b[39m\u001b[38;5;241m0\u001b[39m) \u001b[38;5;129;01mand\u001b[39;00m (\u001b[38;5;28mstr\u001b[39m(s[\u001b[38;5;241m1\u001b[39m])\u001b[38;5;241m%\u001b[39m\u001b[38;5;241m2\u001b[39m\u001b[38;5;241m==\u001b[39m\u001b[38;5;241m0\u001b[39m) \u001b[38;5;129;01mand\u001b[39;00m (\u001b[38;5;28mstr\u001b[39m(s[\u001b[38;5;241m2\u001b[39m])\u001b[38;5;241m%\u001b[39m\u001b[38;5;241m2\u001b[39m\u001b[38;5;241m==\u001b[39m\u001b[38;5;241m0\u001b[39m) \u001b[38;5;129;01mand\u001b[39;00m (\u001b[38;5;28mstr\u001b[39m(s[\u001b[38;5;241m3\u001b[39m])):\n\u001b[0;32m      5\u001b[0m         value\u001b[38;5;241m.\u001b[39mappend(s)\n",
      "\u001b[1;31mTypeError\u001b[0m: 'str' object is not callable"
     ]
    }
   ],
   "source": [
    "value=[]\n",
    "for i in range(1000,3001):\n",
    "    s=str(i)\n",
    "    if (int(s[0])%2==0) and (int(s[1])%2==0) and (int(s[2])%2==0) and (int(s[3])):\n",
    "        value.append(s)\n",
    "print(\",\".join(value))"
   ]
  },
  {
   "cell_type": "code",
   "execution_count": 58,
   "metadata": {},
   "outputs": [
    {
     "name": "stdout",
     "output_type": "stream",
     "text": [
      "upper case: 5\n",
      "lower case: 5\n"
     ]
    }
   ],
   "source": [
    "str=input()\n",
    "upper=0\n",
    "lower=0\n",
    "for i in str:\n",
    "    if i.isupper():\n",
    "        upper+=1\n",
    "    elif i.islower():\n",
    "        lower+=1\n",
    "    else:\n",
    "        pass\n",
    "print(\"upper case:\",upper)\n",
    "print(\"lower case:\",lower)"
   ]
  },
  {
   "cell_type": "code",
   "execution_count": 4,
   "metadata": {},
   "outputs": [
    {
     "name": "stdout",
     "output_type": "stream",
     "text": [
      "7\n",
      "14\n"
     ]
    }
   ],
   "source": [
    "def Putnumbers(n):\n",
    "    for i in range(1,n+1):\n",
    "        if i%7==0:\n",
    "            yield i\n",
    "result=Putnumbers(20)\n",
    "for i in result:\n",
    "    print(i)\n",
    "            "
   ]
  },
  {
   "cell_type": "code",
   "execution_count": 5,
   "metadata": {},
   "outputs": [
    {
     "name": "stdout",
     "output_type": "stream",
     "text": [
      "Your password is valid!\n"
     ]
    }
   ],
   "source": [
    "lenth=upper=lower=digit=False\n",
    "Password=input(\"Enter your password!\")\n",
    "\n",
    "if len(Password)<=6:\n",
    "    lenth=True\n",
    "    for i in Password:\n",
    "        if i.isupper():\n",
    "            upper=True\n",
    "        elif i.islower():\n",
    "            lower=True\n",
    "        elif i.isdigit():\n",
    "            digit=True\n",
    "if lenth and upper and lower and digit:\n",
    "    print(\"Your password is valid!\")\n",
    "else:\n",
    "    print(\"Your password is not valid!\")\n",
    "    \n"
   ]
  },
  {
   "cell_type": "code",
   "execution_count": 6,
   "metadata": {},
   "outputs": [
    {
     "name": "stdout",
     "output_type": "stream",
     "text": [
      "9\n"
     ]
    }
   ],
   "source": [
    "def Square(num):\n",
    "    return num**2\n",
    "s=Square(3)\n",
    "print(s)"
   ]
  },
  {
   "cell_type": "code",
   "execution_count": 7,
   "metadata": {},
   "outputs": [
    {
     "name": "stdout",
     "output_type": "stream",
     "text": [
      "kinal Person\n"
     ]
    },
    {
     "ename": "TypeError",
     "evalue": "Person.__init__() missing 1 required positional argument: 'name'",
     "output_type": "error",
     "traceback": [
      "\u001b[1;31m---------------------------------------------------------------------------\u001b[0m",
      "\u001b[1;31mTypeError\u001b[0m                                 Traceback (most recent call last)",
      "Cell \u001b[1;32mIn[7], line 7\u001b[0m\n\u001b[0;32m      5\u001b[0m obj\u001b[38;5;241m=\u001b[39mPerson(\u001b[38;5;124m\"\u001b[39m\u001b[38;5;124mkinal\u001b[39m\u001b[38;5;124m\"\u001b[39m)\n\u001b[0;32m      6\u001b[0m \u001b[38;5;28mprint\u001b[39m(obj\u001b[38;5;241m.\u001b[39mname,Person\u001b[38;5;241m.\u001b[39mname)\n\u001b[1;32m----> 7\u001b[0m p\u001b[38;5;241m=\u001b[39m\u001b[43mPerson\u001b[49m\u001b[43m(\u001b[49m\u001b[43m)\u001b[49m\n\u001b[0;32m      8\u001b[0m p\u001b[38;5;241m.\u001b[39mname\u001b[38;5;241m=\u001b[39m\u001b[38;5;124m\"\u001b[39m\u001b[38;5;124mki\u001b[39m\u001b[38;5;124m\"\u001b[39m\n\u001b[0;32m      9\u001b[0m \u001b[38;5;28mprint\u001b[39m(Person\u001b[38;5;241m.\u001b[39mname,p\u001b[38;5;241m.\u001b[39mname)\n",
      "\u001b[1;31mTypeError\u001b[0m: Person.__init__() missing 1 required positional argument: 'name'"
     ]
    }
   ],
   "source": [
    "class Person:\n",
    "    name=\"Person\"\n",
    "    def __init__(self,name):\n",
    "        self.name=name\n",
    "obj=Person(\"kinal\")\n",
    "print(obj.name,Person.name)\n",
    "p=Person()\n",
    "p.name=\"ki\"\n",
    "print(Person.name,p.name)\n"
   ]
  },
  {
   "cell_type": "code",
   "execution_count": 8,
   "metadata": {},
   "outputs": [
    {
     "name": "stdout",
     "output_type": "stream",
     "text": [
      "3\n"
     ]
    }
   ],
   "source": [
    "# Define a function that can convert a integer into a string and print it in console.\n",
    "\n",
    "def Printvalue(n):\n",
    "    print(str(n))\n",
    "Printvalue(3)\n"
   ]
  },
  {
   "cell_type": "code",
   "execution_count": 12,
   "metadata": {},
   "outputs": [
    {
     "name": "stdout",
     "output_type": "stream",
     "text": [
      "50\n"
     ]
    }
   ],
   "source": [
    "# Define a function that can receive two integral numbers in string form and compute their sum and then print it in console.\n",
    "def sum(s1,s2):\n",
    "    return s1+s2\n",
    "\n",
    "result=sum(20,30)\n",
    "print(result)"
   ]
  },
  {
   "cell_type": "code",
   "execution_count": 13,
   "metadata": {},
   "outputs": [
    {
     "name": "stdout",
     "output_type": "stream",
     "text": [
      "9\n"
     ]
    }
   ],
   "source": [
    "# convert string to intger\n",
    "def sum(a,b):\n",
    "    print(int(a)+int(b))\n",
    "sum(\"5\",\"4\")"
   ]
  },
  {
   "cell_type": "code",
   "execution_count": 15,
   "metadata": {},
   "outputs": [
    {
     "name": "stdout",
     "output_type": "stream",
     "text": [
      "bag,kinal,ramnai\n"
     ]
    }
   ],
   "source": [
    "item=[x for x in input().split(',')]\n",
    "item.sort()\n",
    "print(\",\".join(item))"
   ]
  },
  {
   "cell_type": "code",
   "execution_count": 16,
   "metadata": {},
   "outputs": [
    {
     "name": "stdout",
     "output_type": "stream",
     "text": [
      "6\n"
     ]
    }
   ],
   "source": [
    "import math\n",
    "c=50\n",
    "h=30\n",
    "value=[]\n",
    "items=[x for x in input().split(',')]\n",
    "for i in items:\n",
    "    value.append(str(int(round(math.sqrt(2*c*float(i)/h)))))\n",
    "print(','.join(value))"
   ]
  },
  {
   "cell_type": "code",
   "execution_count": 8,
   "metadata": {},
   "outputs": [
    {
     "name": "stdout",
     "output_type": "stream",
     "text": [
      "1\n",
      "4\n",
      "9\n",
      "16\n",
      "25\n",
      "36\n",
      "49\n",
      "64\n",
      "81\n"
     ]
    }
   ],
   "source": [
    "def Printdict():\n",
    "    d=dict()\n",
    "    for i in range(1,10):\n",
    "        d[i]=i**2\n",
    "    for (k,v) in d.items():\n",
    "        print(v)\n",
    "Printdict()"
   ]
  },
  {
   "cell_type": "code",
   "execution_count": 9,
   "metadata": {},
   "outputs": [
    {
     "name": "stdout",
     "output_type": "stream",
     "text": [
      "[1, 4, 9, 16, 25, 36, 49, 64, 81]\n"
     ]
    }
   ],
   "source": [
    "def Printlist():\n",
    "    l=list()\n",
    "    for i in range(1,10):\n",
    "        l.append(i**2)\n",
    "    print(l)\n",
    "Printlist( )"
   ]
  },
  {
   "cell_type": "code",
   "execution_count": 16,
   "metadata": {},
   "outputs": [
    {
     "name": "stdout",
     "output_type": "stream",
     "text": [
      "[1, 4, 9, 16, 25]\n",
      "[256, 289, 324, 361, 400]\n"
     ]
    }
   ],
   "source": [
    "def Printlist():\n",
    "    l=list()\n",
    "    for i in range(1,21):\n",
    "        l.append(i**2)\n",
    "    print(l[:5])\n",
    "    print(l[-5:])\n",
    "Printlist()"
   ]
  },
  {
   "cell_type": "code",
   "execution_count": 17,
   "metadata": {},
   "outputs": [
    {
     "name": "stdout",
     "output_type": "stream",
     "text": [
      "(1, 2, 3, 4, 5)\n",
      "(6, 7, 8, 9, 10)\n"
     ]
    }
   ],
   "source": [
    "tup=(1,2,3,4,5,6,7,8,9,10)\n",
    "t1=tup[:5]\n",
    "t2=tup[5:]\n",
    "print(t1)\n",
    "print(t2)"
   ]
  }
 ],
 "metadata": {
  "kernelspec": {
   "display_name": "Python 3",
   "language": "python",
   "name": "python3"
  },
  "language_info": {
   "codemirror_mode": {
    "name": "ipython",
    "version": 3
   },
   "file_extension": ".py",
   "mimetype": "text/x-python",
   "name": "python",
   "nbconvert_exporter": "python",
   "pygments_lexer": "ipython3",
   "version": "3.11.1"
  }
 },
 "nbformat": 4,
 "nbformat_minor": 2
}
