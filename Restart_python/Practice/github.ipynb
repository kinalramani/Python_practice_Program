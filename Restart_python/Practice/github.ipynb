{
 "cells": [
  {
   "cell_type": "code",
   "execution_count": null,
   "metadata": {},
   "outputs": [],
   "source": [
    "l=[]\n",
    "for i in range(2000,3201):\n",
    "    if (i%5==0) and (i%7==0):\n",
    "        l.append(str(i))\n",
    "print(','.join(l))"
   ]
  },
  {
   "cell_type": "code",
   "execution_count": null,
   "metadata": {},
   "outputs": [],
   "source": [
    "num=int(input(\"Enter your number:\"))\n",
    "def fact(num):\n",
    "    factorial=1\n",
    "    for i in range(1,num+1):\n",
    "        factorial*=i\n",
    "    return factorial\n",
    "print(fact(num))\n",
    "# result=fact(num)\n",
    "# print(result)\n",
    "    "
   ]
  },
  {
   "cell_type": "code",
   "execution_count": null,
   "metadata": {},
   "outputs": [],
   "source": [
    "\n",
    "result = 1\n",
    "for i in range(1, number + 1):\n",
    "    result *= i\n",
    "   \n",
    "number = int(input(\"Enter a number to compute its factorial: \"))\n",
    "print(result)\n"
   ]
  },
  {
   "cell_type": "code",
   "execution_count": null,
   "metadata": {},
   "outputs": [],
   "source": [
    "n=int(input(\"Enter your number:\"))\n",
    "d=dict()\n",
    "for i in range(1,n+1):\n",
    "    d[i]=i*i\n",
    "    \n",
    "print(d)"
   ]
  },
  {
   "cell_type": "code",
   "execution_count": null,
   "metadata": {},
   "outputs": [],
   "source": [
    "n=(input(\"Enter your number:\"))\n",
    "l=n.split(\",\")\n",
    "t=tuple(l)\n",
    "print(l)\n",
    "print(t)"
   ]
  },
  {
   "cell_type": "code",
   "execution_count": null,
   "metadata": {},
   "outputs": [],
   "source": [
    "class Inputoutstring(object):\n",
    "    def __init__(self):\n",
    "        self.s=\"\"\n",
    "    def getstring(self):\n",
    "        self.s=input()\n",
    "    def printstring(self):\n",
    "        print(self.s.upper())\n",
    "obj=Inputoutstring()\n",
    "obj.getstring()\n",
    "obj.printstring()"
   ]
  },
  {
   "cell_type": "code",
   "execution_count": null,
   "metadata": {},
   "outputs": [],
   "source": [
    "item=[x for x in input().split(',')]\n",
    "item.sort()\n",
    "print(','.join(item))"
   ]
  },
  {
   "cell_type": "code",
   "execution_count": null,
   "metadata": {},
   "outputs": [],
   "source": [
    "\n",
    "for i in input().split(','):\n",
    "    i.sort()\n",
    "print(','.join(i))"
   ]
  },
  {
   "cell_type": "code",
   "execution_count": null,
   "metadata": {},
   "outputs": [],
   "source": [
    "lines=[]\n",
    "while True:\n",
    "    s=input()\n",
    "    if s:\n",
    "        lines.append(s.upper())\n",
    "    else:\n",
    "        break\n",
    "for i in lines:\n",
    "    print(i)\n"
   ]
  },
  {
   "cell_type": "code",
   "execution_count": null,
   "metadata": {},
   "outputs": [],
   "source": [
    "value=[]\n",
    "for i in range(1000,3001):\n",
    "    s=str(i)\n",
    "    if (int(s[0])%2==0) and (int(s[1])%2==0) and (int(s[2])%2==0) and (int(s[3])):\n",
    "        value.append(s)\n",
    "print(\",\".join(value))"
   ]
  },
  {
   "cell_type": "code",
   "execution_count": null,
   "metadata": {},
   "outputs": [],
   "source": [
    "str=input()\n",
    "upper=0\n",
    "lower=0\n",
    "for i in str:\n",
    "    if i.isupper():\n",
    "        upper+=1\n",
    "    elif i.islower():\n",
    "        lower+=1\n",
    "    else:\n",
    "        pass\n",
    "print(\"upper case:\",upper)\n",
    "print(\"lower case:\",lower)"
   ]
  },
  {
   "cell_type": "code",
   "execution_count": null,
   "metadata": {},
   "outputs": [],
   "source": [
    "def Putnumbers(n):\n",
    "    for i in range(1,n+1):\n",
    "        if i%7==0:\n",
    "            yield i\n",
    "result=Putnumbers(20)\n",
    "for i in result:\n",
    "    print(i)\n",
    "            "
   ]
  },
  {
   "cell_type": "code",
   "execution_count": null,
   "metadata": {},
   "outputs": [],
   "source": [
    "lenth=upper=lower=digit=False\n",
    "Password=input(\"Enter your password!\")\n",
    "\n",
    "if len(Password)<=6:\n",
    "    lenth=True\n",
    "    for i in Password:\n",
    "        if i.isupper():\n",
    "            upper=True\n",
    "        elif i.islower():\n",
    "            lower=True\n",
    "        elif i.isdigit():\n",
    "            digit=True\n",
    "if lenth and upper and lower and digit:\n",
    "    print(\"Your password is valid!\")\n",
    "else:\n",
    "    print(\"Your password is not valid!\")\n",
    "    \n"
   ]
  },
  {
   "cell_type": "code",
   "execution_count": null,
   "metadata": {},
   "outputs": [],
   "source": [
    "def Square(num):\n",
    "    return num**2\n",
    "s=Square(3)\n",
    "print(s)"
   ]
  },
  {
   "cell_type": "code",
   "execution_count": null,
   "metadata": {},
   "outputs": [],
   "source": [
    "class Person:\n",
    "    name=\"Person\"\n",
    "    def __init__(self,name):\n",
    "        self.name=name\n",
    "obj=Person(\"kinal\")\n",
    "print(obj.name,Person.name)\n",
    "p=Person()\n",
    "p.name=\"ki\"\n",
    "print(Person.name,p.name)\n"
   ]
  },
  {
   "cell_type": "code",
   "execution_count": null,
   "metadata": {},
   "outputs": [],
   "source": [
    "# Define a function that can convert a integer into a string and print it in console.\n",
    "\n",
    "def Printvalue(n):\n",
    "    print(str(n))\n",
    "Printvalue(3)\n"
   ]
  },
  {
   "cell_type": "code",
   "execution_count": null,
   "metadata": {},
   "outputs": [],
   "source": [
    "# Define a function that can receive two integral numbers in string form and compute their sum and then print it in console.\n",
    "def sum(s1,s2):\n",
    "    return s1+s2\n",
    "\n",
    "result=sum(20,30)\n",
    "print(result)"
   ]
  },
  {
   "cell_type": "code",
   "execution_count": null,
   "metadata": {},
   "outputs": [],
   "source": [
    "# convert string to intger\n",
    "def sum(a,b):\n",
    "    print(int(a)+int(b))\n",
    "sum(\"5\",\"4\")"
   ]
  },
  {
   "cell_type": "code",
   "execution_count": null,
   "metadata": {},
   "outputs": [],
   "source": [
    "item=[x for x in input().split(',')]\n",
    "item.sort()\n",
    "print(\",\".join(item))"
   ]
  },
  {
   "cell_type": "code",
   "execution_count": null,
   "metadata": {},
   "outputs": [],
   "source": [
    "import math\n",
    "c=50\n",
    "h=30\n",
    "value=[]\n",
    "items=[x for x in input().split(',')]\n",
    "for i in items:\n",
    "    value.append(str(int(round(math.sqrt(2*c*float(i)/h)))))\n",
    "print(','.join(value))"
   ]
  },
  {
   "cell_type": "code",
   "execution_count": null,
   "metadata": {},
   "outputs": [],
   "source": [
    "def Printdict():\n",
    "    d=dict()\n",
    "    for i in range(1,10):\n",
    "        d[i]=i**2\n",
    "    for (k,v) in d.items():\n",
    "        print(v)\n",
    "Printdict()"
   ]
  },
  {
   "cell_type": "code",
   "execution_count": null,
   "metadata": {},
   "outputs": [],
   "source": [
    "def Printlist():\n",
    "    l=list()\n",
    "    for i in range(1,10):\n",
    "        l.append(i**2)\n",
    "    print(l)\n",
    "Printlist( )"
   ]
  },
  {
   "cell_type": "code",
   "execution_count": null,
   "metadata": {},
   "outputs": [],
   "source": [
    "def Printlist():\n",
    "    l=list()\n",
    "    for i in range(1,21):\n",
    "        l.append(i**2)\n",
    "    print(l[:5])\n",
    "    print(l[-5:])\n",
    "    print(l[5:])\n",
    "Printlist()"
   ]
  },
  {
   "cell_type": "code",
   "execution_count": null,
   "metadata": {},
   "outputs": [],
   "source": [
    "tup=(1,2,3,4,5,6,7,8,9,10)\n",
    "t1=tup[:5]\n",
    "t2=tup[5:]\n",
    "print(t1)\n",
    "print(t2)"
   ]
  },
  {
   "cell_type": "code",
   "execution_count": null,
   "metadata": {},
   "outputs": [],
   "source": [
    "def raw_input(n):\n",
    "    if n==\"yes\" or n==\"YES\" or n==\"Yes\":\n",
    "        print(\"yes\")\n",
    "    else:\n",
    "        print(\"No\")\n",
    "n=input(\"Enter:\")\n",
    "raw_input(n)"
   ]
  },
  {
   "cell_type": "code",
   "execution_count": null,
   "metadata": {},
   "outputs": [],
   "source": [
    "li=[1,2,3,4,5,6,7,8,9,10]\n",
    "evennumber=filter(lambda x :x%2==0,li)\n",
    "print(list(evennumber))"
   ]
  },
  {
   "cell_type": "code",
   "execution_count": null,
   "metadata": {},
   "outputs": [],
   "source": [
    "li=[1,2,3,4,5,6,7,8,9,10]\n",
    "Squarednumbers=map(lambda x:x**2,li)\n",
    "print(list(Squarednumbers))"
   ]
  },
  {
   "cell_type": "code",
   "execution_count": null,
   "metadata": {},
   "outputs": [],
   "source": [
    "li=[1,2,3,4,5,6,7,8,9,10]\n",
    "evennumber=map(lambda x :x**2, filter(lambda x:x%2==0,li))\n",
    "print(list(evennumber))"
   ]
  },
  {
   "cell_type": "code",
   "execution_count": null,
   "metadata": {},
   "outputs": [],
   "source": [
    "evennumber=filter(lambda x : x**2,range(1,21))\n",
    "print(list(evennumber))"
   ]
  },
  {
   "cell_type": "code",
   "execution_count": null,
   "metadata": {},
   "outputs": [],
   "source": [
    "class American(object):\n",
    "    @staticmethod\n",
    "    def printNationality():\n",
    "        print(\"America\")\n",
    "a=American()\n",
    "a.printNationality()\n",
    "American.printNationality()"
   ]
  },
  {
   "cell_type": "code",
   "execution_count": null,
   "metadata": {},
   "outputs": [],
   "source": [
    "class American(object):\n",
    "    pass\n",
    "class Newyorker(American):\n",
    "    pass\n",
    "a=American()\n",
    "n=Newyorker()\n",
    "print(American)\n",
    "print(Newyorker)"
   ]
  },
  {
   "cell_type": "code",
   "execution_count": null,
   "metadata": {},
   "outputs": [],
   "source": [
    "class Circle(object):\n",
    "    def __init__(self,r):\n",
    "        self.radius=r\n",
    "\n",
    "    def area(self):\n",
    "        return self.radius**2*3.14\n",
    "c=Circle(20)\n",
    "print(c.area())\n"
   ]
  },
  {
   "cell_type": "code",
   "execution_count": null,
   "metadata": {},
   "outputs": [],
   "source": [
    "class Rectangle(object):\n",
    "    def __init__(self,length,width):\n",
    "        self.length=length\n",
    "        self.width=width\n",
    "    def area(self):\n",
    "        return self.length*self.width\n",
    "r=Rectangle(2,20)\n",
    "print(r.area())"
   ]
  },
  {
   "cell_type": "code",
   "execution_count": null,
   "metadata": {},
   "outputs": [],
   "source": [
    "class Shape(object):\n",
    "    def __init__(self):\n",
    "        pass\n",
    "    def area(self):\n",
    "        return 0\n",
    "class Square(Shape):\n",
    "    def __init__(self,length):\n",
    "        Shape.__init__(self)\n",
    "        self.length=length\n",
    "    def area(self):\n",
    "        return self.length*self.length\n",
    "s=Square(20)\n",
    "print(s.area())"
   ]
  },
  {
   "cell_type": "code",
   "execution_count": null,
   "metadata": {},
   "outputs": [],
   "source": [
    "raise RuntimeError(\"something wrong\")"
   ]
  },
  {
   "cell_type": "code",
   "execution_count": null,
   "metadata": {},
   "outputs": [],
   "source": [
    "def f(n):\n",
    "    if n==0:\n",
    "        return 0\n",
    "    elif n==1:\n",
    "        return 1\n",
    "    else:\n",
    "        return f(n-1)+f(n-2)\n",
    "n=5\n",
    "for i in range(0,n+1):\n",
    "    print(f(i),end=',')\n",
    "    "
   ]
  },
  {
   "cell_type": "code",
   "execution_count": 23,
   "metadata": {},
   "outputs": [
    {
     "name": "stdout",
     "output_type": "stream",
     "text": [
      "35,70\n"
     ]
    }
   ],
   "source": [
    "def generators(n):\n",
    "    for i in range(1,n+1):\n",
    "        if i%5==0 and i%7==0:\n",
    "            yield str(i)\n",
    "n=int(input(\"Enter your number:\"))\n",
    "# # values=[]\n",
    "# for i in generators(n):\n",
    "#     # values.append(str(i))\n",
    "#     print(i,end=',')\n",
    "\n",
    "result=','.join(generators(n))\n",
    "print(result)"
   ]
  },
  {
   "cell_type": "code",
   "execution_count": null,
   "metadata": {},
   "outputs": [],
   "source": [
    "def generators(n):\n",
    "    for i in range(1, n + 1):\n",
    "        if i % 5 == 0 and i % 7 == 0:\n",
    "            yield str(i)  # Yield the number as a string directly\n",
    "\n",
    "n = int(input(\"Enter your number:\"))\n",
    "# Create a comma-separated string of divisible numbers using generator and join\n",
    "result = ','.join(generators(n))\n",
    "print(result)\n"
   ]
  }
 ],
 "metadata": {
  "kernelspec": {
   "display_name": "Python 3",
   "language": "python",
   "name": "python3"
  },
  "language_info": {
   "codemirror_mode": {
    "name": "ipython",
    "version": 3
   },
   "file_extension": ".py",
   "mimetype": "text/x-python",
   "name": "python",
   "nbconvert_exporter": "python",
   "pygments_lexer": "ipython3",
   "version": "3.11.1"
  }
 },
 "nbformat": 4,
 "nbformat_minor": 2
}
