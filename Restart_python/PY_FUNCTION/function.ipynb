{
 "cells": [
  {
   "cell_type": "code",
   "execution_count": 1,
   "metadata": {},
   "outputs": [
    {
     "name": "stdout",
     "output_type": "stream",
     "text": [
      "15\n"
     ]
    }
   ],
   "source": [
    "'''\n",
    "Define a function max_of_three() that takes three numbers as\n",
    "arguments and returns the largest of them.\n",
    "'''\n",
    "def max_of_three(a,b,c):\n",
    "    if a>b or a>c:\n",
    "        print(a)\n",
    "    elif b>c:\n",
    "        print(b)\n",
    "    else:\n",
    "        print(c)\n",
    "max_of_three(0,15,6)"
   ]
  },
  {
   "cell_type": "code",
   "execution_count": 1,
   "metadata": {},
   "outputs": [
    {
     "name": "stdout",
     "output_type": "stream",
     "text": [
      "tothohisos o isos o fofunon\n"
     ]
    }
   ],
   "source": [
    "\n",
    "def translate(x):\n",
    "    s = ''\n",
    "    for i in x:\n",
    "        if i not in ('aeiou'):\n",
    "            s += i + \"o\" + i\n",
    "        else:\n",
    "            s += i \n",
    "    print (s) \n",
    "    \n",
    "translate(\"this is fun\")"
   ]
  },
  {
   "cell_type": "code",
   "execution_count": 4,
   "metadata": {},
   "outputs": [
    {
     "name": "stdout",
     "output_type": "stream",
     "text": [
      "6\n"
     ]
    }
   ],
   "source": [
    "# find the length using function\n",
    "str=\"python\"\n",
    "def length(x):\n",
    "    c=0\n",
    "    for i in str:\n",
    "        c+=1\n",
    "    return c\n",
    "print(length(str))"
   ]
  },
  {
   "cell_type": "code",
   "execution_count": 10,
   "metadata": {},
   "outputs": [
    {
     "name": "stdout",
     "output_type": "stream",
     "text": [
      "False\n"
     ]
    }
   ],
   "source": [
    "\n",
    "# True if it is a vowel, False otherwise.\n",
    "def vowel(x):\n",
    "    if x in ('aeiou'):\n",
    "        return True\n",
    "    else:\n",
    "        return False\n",
    "print(vowel('n'))"
   ]
  },
  {
   "cell_type": "code",
   "execution_count": 5,
   "metadata": {},
   "outputs": [
    {
     "name": "stdout",
     "output_type": "stream",
     "text": [
      "8\n",
      "120\n"
     ]
    }
   ],
   "source": [
    "# list of sum and multiply using function\n",
    "\n",
    "def sum(x):\n",
    "    sum=0\n",
    "    for i in x:\n",
    "        sum+=i\n",
    "    return sum\n",
    "print(sum([1,2,2,3]))\n",
    "\n",
    "def multiply(x):\n",
    "    mul=1\n",
    "    for i in x:\n",
    "        mul*=i\n",
    "    return mul\n",
    "print(multiply([1,2,3,4,5]))"
   ]
  },
  {
   "cell_type": "code",
   "execution_count": 9,
   "metadata": {},
   "outputs": [
    {
     "name": "stdout",
     "output_type": "stream",
     "text": [
      "nohtyp\n"
     ]
    }
   ],
   "source": [
    "# reverse string using function\n",
    "def reverse(x):\n",
    "    str=[]\n",
    "    for i in range(len(x))[::-1]:\n",
    "        str.append(x[i])\n",
    "    print(''.join(str))\n",
    "reverse(\"python\")\n",
    "        "
   ]
  },
  {
   "cell_type": "code",
   "execution_count": 13,
   "metadata": {},
   "outputs": [
    {
     "data": {
      "text/plain": [
       "False"
      ]
     },
     "execution_count": 13,
     "metadata": {},
     "output_type": "execute_result"
    }
   ],
   "source": [
    "#check pelindrom number(string) using function\n",
    "def pelindrom(x):\n",
    "    if x==x [::-1]:\n",
    "        return True\n",
    "    else:\n",
    "        return False\n",
    "    \n",
    "pelindrom(\"uhvdfj\")"
   ]
  },
  {
   "cell_type": "code",
   "execution_count": 26,
   "metadata": {},
   "outputs": [
    {
     "name": "stdout",
     "output_type": "stream",
     "text": [
      "True\n"
     ]
    }
   ],
   "source": [
    "# x and a list of values a,and returns True if x is a member of a, False otherwise\n",
    "def is_member(x,a):\n",
    "    if x in a:\n",
    "        return True\n",
    "    else:\n",
    "        return False\n",
    "def is_member2(x,a):\n",
    "    # status=0\n",
    "    for i in a:\n",
    "        if x==i:\n",
    "            print(True)\n",
    "            # status=1\n",
    "    # if status==0:\n",
    "    #     print(False)\n",
    "is_member('c',['a',1,2,3,'b'])\n",
    "is_member2('a',['a',1,2,3,'b'])\n"
   ]
  },
  {
   "cell_type": "code",
   "execution_count": 35,
   "metadata": {},
   "outputs": [
    {
     "name": "stdout",
     "output_type": "stream",
     "text": [
      "True\n"
     ]
    }
   ],
   "source": [
    "# overlapping using function\n",
    "def overlapping(a,b):\n",
    "    l1=len(a)\n",
    "    l2=len(b)\n",
    "    for i in range(l1):\n",
    "        for j in range(l2):\n",
    "            if a[i]==b[j]:\n",
    "                status=1\n",
    "                break\n",
    "            else:\n",
    "                status=0\n",
    "    if status==1:\n",
    "        print(True)\n",
    "    else:\n",
    "        print(False)\n",
    "overlapping(['m','n'], ['n','d'])\n",
    "\n"
   ]
  },
  {
   "cell_type": "code",
   "execution_count": null,
   "metadata": {},
   "outputs": [],
   "source": [
    "def generate_n_chars(n,a):\n",
    "    list=[]\n",
    "    for i in range(n):\n",
    "        list.append(a)\n",
    "        print(''.join(list))\n",
    "generate_n_chars( 5, 'k')"
   ]
  },
  {
   "cell_type": "code",
   "execution_count": 51,
   "metadata": {},
   "outputs": [
    {
     "name": "stdout",
     "output_type": "stream",
     "text": [
      "****\n",
      "******\n",
      "***\n"
     ]
    }
   ],
   "source": [
    "# list of integers and prints a histogram to the screen.\n",
    "def histogram(n):\n",
    "    for i in n:\n",
    "        print(i*'*')\n",
    "histogram([4,6,3])"
   ]
  },
  {
   "cell_type": "code",
   "execution_count": 63,
   "metadata": {},
   "outputs": [
    {
     "name": "stdout",
     "output_type": "stream",
     "text": [
      "6\n"
     ]
    }
   ],
   "source": [
    "def max1(l):\n",
    "    max=0\n",
    "    for i in range(len(l)-1):\n",
    "        if l[i]>l[i+1] and l[i]>max:\n",
    "            max=l[i]\n",
    "        elif max>l[i+1]:\n",
    "            max=l[i+1]\n",
    "    print(max)\n",
    "max1([1,2,34,4,6,345])\n"
   ]
  },
  {
   "cell_type": "code",
   "execution_count": 11,
   "metadata": {},
   "outputs": [
    {
     "name": "stdout",
     "output_type": "stream",
     "text": [
      "[5, 6, 4]\n",
      "<map object at 0x000001ED7F61B1C0>\n"
     ]
    }
   ],
   "source": [
    "# list of words into a list of integers representing the lengths of the corresponding words.\n",
    "def maps(x):\n",
    "    list=[]\n",
    "    for i in x:\n",
    "        list.append(len(i))\n",
    "    print(list)\n",
    "\n",
    "maps(['apple','banana','kiwi'])\n",
    "l=['apple','banana','kiwi']\n",
    "print(map(len,l))\n",
    "        \n"
   ]
  },
  {
   "cell_type": "code",
   "execution_count": 13,
   "metadata": {},
   "outputs": [
    {
     "name": "stdout",
     "output_type": "stream",
     "text": [
      "8\n"
     ]
    }
   ],
   "source": [
    "# find logest word\n",
    "def find_longest_word(x):\n",
    "    list=[]\n",
    "    for i in x:\n",
    "        list.append(len(i))\n",
    "    print(max(list))\n",
    "find_longest_word([\"ndkjdgcg\",\"tygud\",\"juh\"])\n"
   ]
  },
  {
   "cell_type": "code",
   "execution_count": 18,
   "metadata": {},
   "outputs": [
    {
     "name": "stdout",
     "output_type": "stream",
     "text": [
      "['jbbkuih', 'nhudvchj', 'hgugwvd']\n"
     ]
    }
   ],
   "source": [
    "# takes a list of words and an integer n and returns the list of words that are longer than n.\n",
    "def filter_long_word(x,n):\n",
    "    list=[]\n",
    "    for i in x:\n",
    "        if len(i)>n:\n",
    "            list.append(i)\n",
    "    print(list)\n",
    "filter_long_word([\"jbbkuih\",\"nhudvchj\",\"hgugwvd\"],4)\n"
   ]
  },
  {
   "cell_type": "code",
   "execution_count": null,
   "metadata": {},
   "outputs": [],
   "source": [
    "import string\n",
    "def Pangram(x):\n",
    "    for i in string.latters[:26]:\n",
    "        if i in x.lower():\n",
    "            status=1\n",
    "        else:\n",
    "            print(\"not an pengram\")\n",
    "            status=0\n",
    "            break\n",
    "    if status==1:\n",
    "        print(\"pangram\")\n",
    "Pangram(\"The q brown fox jumps over the lazy dog\")"
   ]
  },
  {
   "cell_type": "code",
   "execution_count": 33,
   "metadata": {},
   "outputs": [
    {
     "name": "stdout",
     "output_type": "stream",
     "text": [
      "['god', 'jul', 'och', 'gott', 'nytt', 'ar']\n",
      "god jul och gott nytt ar\n"
     ]
    }
   ],
   "source": [
    "\n",
    "\n",
    "def tanslate(x):\n",
    "    new=[]\n",
    "    d = {\"merry\":\"god\",\n",
    "          \"christmas\":\"jul\", \n",
    "          \"and\":\"och\", \n",
    "          \"happy\":\"gott\", \n",
    "          \"new\":\"nytt\", \n",
    "          \"year\":\"ar\"}\n",
    "    l = x.split(' ')\n",
    "    for i in l:\n",
    "        new.append(d[i])\n",
    "    print(new)\n",
    "    print(' '.join(new))         \n",
    "        \n",
    "tanslate('merry christmas and happy new year')"
   ]
  }
 ],
 "metadata": {
  "kernelspec": {
   "display_name": "Python 3",
   "language": "python",
   "name": "python3"
  },
  "language_info": {
   "codemirror_mode": {
    "name": "ipython",
    "version": 3
   },
   "file_extension": ".py",
   "mimetype": "text/x-python",
   "name": "python",
   "nbconvert_exporter": "python",
   "pygments_lexer": "ipython3",
   "version": "3.11.1"
  }
 },
 "nbformat": 4,
 "nbformat_minor": 2
}
