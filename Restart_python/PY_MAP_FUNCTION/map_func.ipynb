{
 "cells": [
  {
   "cell_type": "code",
   "execution_count": 1,
   "metadata": {},
   "outputs": [
    {
     "name": "stdout",
     "output_type": "stream",
     "text": [
      "[36, 27, 8, 4]\n"
     ]
    }
   ],
   "source": [
    "def add_two(a):\n",
    "    return a+2\n",
    "new_list=[]\n",
    "iterable=[34,25,6,2]\n",
    "for i in iterable:\n",
    "    result=add_two(i)\n",
    "    new_list.append(result)\n",
    "print(new_list)"
   ]
  },
  {
   "cell_type": "code",
   "execution_count": 2,
   "metadata": {},
   "outputs": [
    {
     "name": "stdout",
     "output_type": "stream",
     "text": [
      "[36, 54, 64, 14]\n"
     ]
    }
   ],
   "source": [
    "# using one liner map() function\n",
    "def add_two(a):\n",
    "    return a+2\n",
    "iterable=[34,52,62,12]\n",
    "mapping=[add_two(i) for i in iterable]\n",
    "print(mapping)"
   ]
  },
  {
   "cell_type": "code",
   "execution_count": null,
   "metadata": {},
   "outputs": [],
   "source": [
    "def to_celcius(a):\n",
    "    value=(a-32) *5/9\n",
    "    return round(value)\n",
    "new_value=list(map(int(input(\"Enter temperature:\".split()))))\n",
    "result= list(map(to_celcius,new_value))\n",
    "print(result)\n"
   ]
  }
 ],
 "metadata": {
  "kernelspec": {
   "display_name": "Python 3",
   "language": "python",
   "name": "python3"
  },
  "language_info": {
   "codemirror_mode": {
    "name": "ipython",
    "version": 3
   },
   "file_extension": ".py",
   "mimetype": "text/x-python",
   "name": "python",
   "nbconvert_exporter": "python",
   "pygments_lexer": "ipython3",
   "version": "3.11.1"
  }
 },
 "nbformat": 4,
 "nbformat_minor": 2
}
