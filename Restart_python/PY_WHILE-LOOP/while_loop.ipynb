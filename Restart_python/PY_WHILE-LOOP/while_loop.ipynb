{
 "cells": [
  {
   "cell_type": "code",
   "execution_count": 7,
   "metadata": {},
   "outputs": [
    {
     "name": "stdout",
     "output_type": "stream",
     "text": [
      "factorial of 120\n"
     ]
    }
   ],
   "source": [
    "#factorial\n",
    "i=1\n",
    "fact=1\n",
    "while i<=5:\n",
    "    \n",
    "    fact*=i\n",
    "    i+=1\n",
    "print(\"factorial of\",fact)\n",
    "    "
   ]
  },
  {
   "cell_type": "code",
   "execution_count": 9,
   "metadata": {},
   "outputs": [
    {
     "name": "stdout",
     "output_type": "stream",
     "text": [
      "sum of 55\n"
     ]
    }
   ],
   "source": [
    "# nuber of sum\n",
    "i=1\n",
    "sum=0\n",
    "while i<=10:\n",
    "    \n",
    "    sum+=i\n",
    "    i+=1\n",
    "print(\"sum of\",sum)"
   ]
  }
 ],
 "metadata": {
  "kernelspec": {
   "display_name": "Python 3",
   "language": "python",
   "name": "python3"
  },
  "language_info": {
   "codemirror_mode": {
    "name": "ipython",
    "version": 3
   },
   "file_extension": ".py",
   "mimetype": "text/x-python",
   "name": "python",
   "nbconvert_exporter": "python",
   "pygments_lexer": "ipython3",
   "version": "3.11.1"
  }
 },
 "nbformat": 4,
 "nbformat_minor": 2
}
