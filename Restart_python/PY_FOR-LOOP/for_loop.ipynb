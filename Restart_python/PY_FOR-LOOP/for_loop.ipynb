{
 "cells": [
  {
   "cell_type": "code",
   "execution_count": 10,
   "metadata": {},
   "outputs": [
    {
     "name": "stdout",
     "output_type": "stream",
     "text": [
      "your guess number is high!\n"
     ]
    }
   ],
   "source": [
    "#guess the number\n",
    "import random\n",
    "n=random.randint(1,10)\n",
    "guess=1\n",
    "for i in range(1,guess+1):\n",
    "    guess=int(input(\"Enter your guess number!!\"))\n",
    "    if(guess<n):\n",
    "        print(\"your guess number is lower!\")\n",
    "    elif(guess>n):\n",
    "        print(\"your guess number is high!\")\n",
    "    else:\n",
    "        print(\"congratulation\")"
   ]
  },
  {
   "cell_type": "code",
   "execution_count": 20,
   "metadata": {},
   "outputs": [
    {
     "name": "stdout",
     "output_type": "stream",
     "text": [
      "your number is even!\n",
      "[2, 4, 6, 8]\n",
      "your number is odd!\n",
      "[1, 3, 5, 7, 9]\n"
     ]
    }
   ],
   "source": [
    "even=[]\n",
    "odd=[]\n",
    "for i in range(1,10):\n",
    "    if i%2==0:\n",
    "        even.append(i)\n",
    "    else :\n",
    "        odd.append(i)\n",
    "        \n",
    "print(\"your number is even!\")\n",
    "print(even)\n",
    "print(\"your number is odd!\")\n",
    "print(odd)"
   ]
  },
  {
   "cell_type": "code",
   "execution_count": 27,
   "metadata": {},
   "outputs": [
    {
     "name": "stdout",
     "output_type": "stream",
     "text": [
      "*\n",
      "**\n",
      "***\n",
      "****\n",
      "*****\n",
      "******\n",
      "*****\n",
      "****\n",
      "***\n",
      "**\n",
      "*\n",
      "\n"
     ]
    }
   ],
   "source": [
    "for i in range(0,6):\n",
    "    for j in range(i+1):\n",
    "        print(\"*\",end='')\n",
    "    print(\"\")\n",
    "for i in range(0,6):\n",
    "    for j in range(5,i,-1):\n",
    "        print(\"*\",end='')\n",
    "    print(\"\")"
   ]
  },
  {
   "cell_type": "code",
   "execution_count": 5,
   "metadata": {},
   "outputs": [
    {
     "name": "stdout",
     "output_type": "stream",
     "text": [
      "* * * * * *   \n",
      "* * * * * *   \n",
      "* * * * * *   \n",
      "* * * * * *   \n",
      "* * * * * *   \n",
      "* * * * * *   \n"
     ]
    }
   ],
   "source": [
    "for i in range(0,6):\n",
    "    for j in range(0,6):\n",
    "        print(\"*\",end=' ')\n",
    "    print(\" \")\n",
    "    "
   ]
  },
  {
   "cell_type": "code",
   "execution_count": 8,
   "metadata": {},
   "outputs": [
    {
     "name": "stdout",
     "output_type": "stream",
     "text": [
      "Python Numpy Pandas Django Flask "
     ]
    }
   ],
   "source": [
    "list=['Python', 'Numpy','Pandas','Django', 'Flask'] \n",
    "for i in list:\n",
    "    print(i,end=' ')\n"
   ]
  },
  {
   "cell_type": "code",
   "execution_count": 21,
   "metadata": {},
   "outputs": [
    {
     "name": "stdout",
     "output_type": "stream",
     "text": [
      "2*1= 2\n",
      "2*2= 4\n",
      "2*3= 6\n",
      "2*4= 8\n",
      "2*5= 10\n",
      "2*6= 12\n",
      "2*7= 14\n",
      "2*8= 16\n",
      "2*9= 18\n",
      "2*10= 20\n"
     ]
    }
   ],
   "source": [
    "n=2\n",
    "for i in range(1,11):\n",
    "    print(f\"{n}*{i}=\",i*n)    \n"
   ]
  },
  {
   "cell_type": "code",
   "execution_count": 29,
   "metadata": {},
   "outputs": [
    {
     "name": "stdout",
     "output_type": "stream",
     "text": [
      "A \n",
      "1 2 \n",
      "B C D \n",
      "3 4 5 6 \n"
     ]
    }
   ],
   "source": [
    "rows = 4\n",
    "char = ord('A')  \n",
    "num = 1 \n",
    "\n",
    "for i in range(rows):\n",
    "    for j in range(i + 1):\n",
    "        if i % 2 == 0:\n",
    "            print(chr(char), end=' ')  \n",
    "            char += 1  \n",
    "        else:\n",
    "            print(num, end=' ')  \n",
    "            num += 1  \n",
    "    print()  \n"
   ]
  },
  {
   "cell_type": "code",
   "execution_count": 30,
   "metadata": {},
   "outputs": [
    {
     "ename": "TypeError",
     "evalue": "'list' object is not callable",
     "output_type": "error",
     "traceback": [
      "\u001b[1;31m---------------------------------------------------------------------------\u001b[0m",
      "\u001b[1;31mTypeError\u001b[0m                                 Traceback (most recent call last)",
      "Cell \u001b[1;32mIn[30], line 4\u001b[0m\n\u001b[0;32m      1\u001b[0m \u001b[38;5;124;03m\"\"\"110. Write a Python program to get numbers divisible by fifteen from a\u001b[39;00m\n\u001b[0;32m      2\u001b[0m \u001b[38;5;124;03mlist using an anonymous function.\"\"\"\u001b[39;00m\n\u001b[0;32m      3\u001b[0m \u001b[38;5;28mlist\u001b[39m\u001b[38;5;241m=\u001b[39m[\u001b[38;5;241m35\u001b[39m,\u001b[38;5;241m30\u001b[39m,\u001b[38;5;241m50\u001b[39m,\u001b[38;5;241m45\u001b[39m]\n\u001b[1;32m----> 4\u001b[0m result\u001b[38;5;241m=\u001b[39m\u001b[38;5;28;43mlist\u001b[39;49m\u001b[43m(\u001b[49m\u001b[38;5;28;43mfilter\u001b[39;49m\u001b[43m(\u001b[49m\u001b[38;5;28;43;01mlambda\u001b[39;49;00m\u001b[43m \u001b[49m\u001b[43mx\u001b[49m\u001b[43m:\u001b[49m\u001b[43m \u001b[49m\u001b[43m(\u001b[49m\u001b[43mx\u001b[49m\u001b[38;5;241;43m%\u001b[39;49m\u001b[38;5;241;43m15\u001b[39;49m\u001b[38;5;241;43m==\u001b[39;49m\u001b[38;5;241;43m0\u001b[39;49m\u001b[43m)\u001b[49m\u001b[43m,\u001b[49m\u001b[38;5;28;43mlist\u001b[39;49m\u001b[43m)\u001b[49m\u001b[43m)\u001b[49m\n\u001b[0;32m      5\u001b[0m \u001b[38;5;28mprint\u001b[39m(result)\n",
      "\u001b[1;31mTypeError\u001b[0m: 'list' object is not callable"
     ]
    }
   ],
   "source": [
    "\"\"\"110. Write a Python program to get numbers divisible by fifteen from a\n",
    "list using an anonymous function.\"\"\"\n",
    "list=[35,30,50,45]\n",
    "result=list(filter(lambda x: (x%15==0),list))\n",
    "print(result)"
   ]
  }
 ],
 "metadata": {
  "kernelspec": {
   "display_name": "Python 3",
   "language": "python",
   "name": "python3"
  },
  "language_info": {
   "codemirror_mode": {
    "name": "ipython",
    "version": 3
   },
   "file_extension": ".py",
   "mimetype": "text/x-python",
   "name": "python",
   "nbconvert_exporter": "python",
   "pygments_lexer": "ipython3",
   "version": "3.11.1"
  }
 },
 "nbformat": 4,
 "nbformat_minor": 2
}
