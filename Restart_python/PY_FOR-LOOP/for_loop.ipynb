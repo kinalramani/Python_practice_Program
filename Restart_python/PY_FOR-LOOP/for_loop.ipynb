{
 "cells": [
  {
   "cell_type": "code",
   "execution_count": null,
   "metadata": {},
   "outputs": [],
   "source": [
    "import random\n",
    "n=random.randrange(1,10)\n",
    "guess=0\n",
    "for i in n:\n",
    "    guess=int(input(\"Enter your guess number!!\"))\n",
    "    if(guess<n):\n",
    "        print(\"your guess number is lower!\")\n",
    "    elif(guess>n):\n",
    "        print(\"your guess number is high!\")\n",
    "    else:\n",
    "        print(\"congratulation\")"
   ]
  }
 ],
 "metadata": {
  "language_info": {
   "name": "python"
  }
 },
 "nbformat": 4,
 "nbformat_minor": 2
}
