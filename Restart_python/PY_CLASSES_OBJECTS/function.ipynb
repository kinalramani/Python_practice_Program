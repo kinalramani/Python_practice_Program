{
 "cells": [
  {
   "cell_type": "code",
   "execution_count": 4,
   "metadata": {},
   "outputs": [
    {
     "data": {
      "text/plain": [
       "100"
      ]
     },
     "execution_count": 4,
     "metadata": {},
     "output_type": "execute_result"
    }
   ],
   "source": [
    "class Yourclass(object):\n",
    "    classy=10           #class attribute\n",
    "\n",
    "    def set_val(self):\n",
    "        self.insty=100  #instance attribute\n",
    "y=Yourclass()\n",
    "y.classy\n",
    "y.set_val()\n",
    "y.insty"
   ]
  },
  {
   "cell_type": "code",
   "execution_count": 7,
   "metadata": {},
   "outputs": [
    {
     "name": "stdout",
     "output_type": "stream",
     "text": [
      "hello world\n",
      "python\n",
      "hello world\n"
     ]
    }
   ],
   "source": [
    "class Yourclass(object):\n",
    "    classy=\"hello world\"\n",
    "y=Yourclass()\n",
    "print(y.classy)\n",
    "y.classy=\"python\"\n",
    "print(y.classy)\n",
    "del y.classy   #delete the value\n",
    "print(y.classyx)"
   ]
  },
  {
   "cell_type": "code",
   "execution_count": 9,
   "metadata": {},
   "outputs": [
    {
     "name": "stdout",
     "output_type": "stream",
     "text": [
      "5\n",
      "value of i: None\n",
      "3\n",
      "Count : None\n",
      "2\n",
      "value of i: None\n",
      "3\n",
      "Count : None\n",
      "10\n",
      "value of i: None\n",
      "3\n",
      "Count : None\n"
     ]
    }
   ],
   "source": [
    "class Instancecounter(object):\n",
    "    count=0\n",
    "    def __init__(self,val):\n",
    "        self.val=val\n",
    "        Instancecounter.count+=1\n",
    "    def set_val(self,newval):\n",
    "        self.newval=newval\n",
    "    def get_val(self):\n",
    "        print(self.val)\n",
    "    def get_count(self):\n",
    "        print(Instancecounter.count)\n",
    "a=Instancecounter(5)\n",
    "b=Instancecounter(2)\n",
    "c=Instancecounter(10)\n",
    "\n",
    "for i in (a,b,c):\n",
    "    print(\"value of i: %s\" % i.get_val())\n",
    "    print(\"Count : %s\" % i.get_count())\n",
    "    "
   ]
  },
  {
   "cell_type": "code",
   "execution_count": 11,
   "metadata": {},
   "outputs": [
    {
     "name": "stdout",
     "output_type": "stream",
     "text": [
      "['a', 'b', 'c']\n"
     ]
    }
   ],
   "source": [
    "class Printlist(object):\n",
    "    def __init__(self,list):\n",
    "        self.list=list\n",
    "    def __repr__(self):\n",
    "        return str(self.list)\n",
    "p=Printlist([\"a\",\"b\",\"c\"])\n",
    "print(p.__repr__())         # __repr__ represent of string"
   ]
  },
  {
   "cell_type": "code",
   "execution_count": 15,
   "metadata": {},
   "outputs": [
    {
     "name": "stdout",
     "output_type": "stream",
     "text": [
      "Before calling the function\n",
      "After calling the function\n",
      "8\n"
     ]
    }
   ],
   "source": [
    "class MyDecorator:\n",
    "    def __init__(self, func):\n",
    "        self.func = func\n",
    "\n",
    "    def __call__(self, *args, **kwargs):\n",
    "        print(\"Before calling the function\")\n",
    "        result = self.func(*args, **kwargs)\n",
    "        print(\"After calling the function\")\n",
    "        return result\n",
    "\n",
    "@MyDecorator\n",
    "def my_function(x, y):\n",
    "    return x + y\n",
    "\n",
    "result = my_function(3, 5)\n",
    "print(result)\n"
   ]
  }
 ],
 "metadata": {
  "kernelspec": {
   "display_name": "Python 3",
   "language": "python",
   "name": "python3"
  },
  "language_info": {
   "codemirror_mode": {
    "name": "ipython",
    "version": 3
   },
   "file_extension": ".py",
   "mimetype": "text/x-python",
   "name": "python",
   "nbconvert_exporter": "python",
   "pygments_lexer": "ipython3",
   "version": "3.11.1"
  }
 },
 "nbformat": 4,
 "nbformat_minor": 2
}
