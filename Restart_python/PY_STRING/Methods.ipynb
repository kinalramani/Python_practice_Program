{
 "cells": [
  {
   "cell_type": "code",
   "execution_count": 2,
   "metadata": {},
   "outputs": [
    {
     "name": "stdout",
     "output_type": "stream",
     "text": [
      "Kinal 20\n"
     ]
    }
   ],
   "source": [
    "# capitalize()\n",
    "str=\"kinal 20\"\n",
    "x=str.capitalize()\n",
    "print(x)\n"
   ]
  },
  {
   "cell_type": "code",
   "execution_count": 3,
   "metadata": {},
   "outputs": [
    {
     "name": "stdout",
     "output_type": "stream",
     "text": [
      "hello, and welcome to my world!\n"
     ]
    }
   ],
   "source": [
    "# casefold()\n",
    "txt = \"Hello, And Welcome To My World!\"\n",
    "print(txt.casefold())"
   ]
  },
  {
   "cell_type": "code",
   "execution_count": 7,
   "metadata": {},
   "outputs": [
    {
     "name": "stdout",
     "output_type": "stream",
     "text": [
      "       hello        \n",
      "ooooooohellooooooooo\n"
     ]
    }
   ],
   "source": [
    "# center()\n",
    "str=\"hello\"\n",
    "print(str.center(20,))\n",
    "print(str.center(20,\"o\"))"
   ]
  },
  {
   "cell_type": "code",
   "execution_count": 13,
   "metadata": {},
   "outputs": [
    {
     "name": "stdout",
     "output_type": "stream",
     "text": [
      "1\n"
     ]
    }
   ],
   "source": [
    "# count()\n",
    "str= \"I love apples, apple are my favorite fruit\"\n",
    "print(str.count(\"apple\",10,24))"
   ]
  },
  {
   "cell_type": "code",
   "execution_count": 15,
   "metadata": {},
   "outputs": [
    {
     "name": "stdout",
     "output_type": "stream",
     "text": [
      "b'my name is St\\xc3\\xa5le'\n"
     ]
    }
   ],
   "source": [
    "# encode()\n",
    "str=\"my name is Ståle\"\n",
    "print(str.encode())"
   ]
  },
  {
   "cell_type": "code",
   "execution_count": 17,
   "metadata": {},
   "outputs": [
    {
     "name": "stdout",
     "output_type": "stream",
     "text": [
      "True\n"
     ]
    }
   ],
   "source": [
    "# endswith()\n",
    "str= \"Hello, welcome to my world.\"\n",
    "print(str.endswith(\".\"))"
   ]
  },
  {
   "cell_type": "code",
   "execution_count": null,
   "metadata": {},
   "outputs": [
    {
     "name": "stdout",
     "output_type": "stream",
     "text": [
      "H  e  l  l  o\n"
     ]
    }
   ],
   "source": [
    "# expandtabs()\n",
    "str=\"H\\te\\tl\\tl\\to\"\n",
    "print(str.expandtabs(3))"
   ]
  },
  {
   "cell_type": "code",
   "execution_count": 21,
   "metadata": {},
   "outputs": [
    {
     "name": "stdout",
     "output_type": "stream",
     "text": [
      "18\n"
     ]
    }
   ],
   "source": [
    "# find()\n",
    "str=\"Hello, welcome to my world.\"\n",
    "print(str.find(\"my\"))"
   ]
  },
  {
   "cell_type": "code",
   "execution_count": 24,
   "metadata": {},
   "outputs": [
    {
     "name": "stdout",
     "output_type": "stream",
     "text": [
      "For only 50.00 dollars!\n",
      "my name jgdc,i'm 89\n",
      "my name hfvf,im 54\n",
      "my name gddc,im 76\n"
     ]
    }
   ],
   "source": [
    "# format()\n",
    "str=\"For only {price:.2f} dollars!\"\n",
    "print(str.format(price=50))\n",
    "print(\"my name {fname},i'm {age}\".format(fname='jgdc',age=89))\n",
    "print(\"my name {0},im {1}\".format(\"hfvf\",54))\n",
    "print(\"my name {},im {}\".format(\"gddc\",76))"
   ]
  },
  {
   "cell_type": "code",
   "execution_count": 25,
   "metadata": {},
   "outputs": [
    {
     "name": "stdout",
     "output_type": "stream",
     "text": [
      "15\n"
     ]
    }
   ],
   "source": [
    "# index()\n",
    "str=\"Hello, welcome to my world.\"\n",
    "print(str.index(\"to\"))"
   ]
  },
  {
   "cell_type": "code",
   "execution_count": 26,
   "metadata": {},
   "outputs": [
    {
     "name": "stdout",
     "output_type": "stream",
     "text": [
      "True\n"
     ]
    }
   ],
   "source": [
    "#  isalnum()\n",
    "str=\"store98\"\n",
    "print(str.isalnum())"
   ]
  },
  {
   "cell_type": "code",
   "execution_count": 29,
   "metadata": {},
   "outputs": [
    {
     "name": "stdout",
     "output_type": "stream",
     "text": [
      "True\n",
      "False\n"
     ]
    }
   ],
   "source": [
    "# isalpha()\n",
    "str=\"CompanyX\"\n",
    "str1=\"CompanyX8\"\n",
    "\n",
    "print(str.isalpha())\n",
    "print(str1.isalpha())"
   ]
  },
  {
   "cell_type": "code",
   "execution_count": 30,
   "metadata": {},
   "outputs": [
    {
     "name": "stdout",
     "output_type": "stream",
     "text": [
      "True\n"
     ]
    }
   ],
   "source": [
    "# isascii()\n",
    "str=\"Company123\"\n",
    "print(str.isascii())"
   ]
  },
  {
   "cell_type": "code",
   "execution_count": 41,
   "metadata": {},
   "outputs": [
    {
     "name": "stdout",
     "output_type": "stream",
     "text": [
      "True\n",
      "True\n",
      "True\n",
      "True\n",
      "True\n",
      "False\n",
      "True\n",
      "True\n",
      "True\n"
     ]
    }
   ],
   "source": [
    "# isdecimal()  isdigit()\n",
    "str=\"1234\"\n",
    "print(str.isdecimal())\n",
    "print(str.isdigit())\n",
    "\n",
    "# isidentifier()\n",
    "str=\"hello\"\n",
    "print(str.isidentifier())\n",
    "# islower()\n",
    "str==\"hello world\"\n",
    "print(str.islower())\n",
    "\n",
    "#  isnumeric()\n",
    "str=\"12345\"\n",
    "print(str.isnumeric())\n",
    "\n",
    "# isprintable()\n",
    "str=\"Hello! \\n Are you #1?\" #\\n is not printable\n",
    "print(str.isprintable())\n",
    "\n",
    "# isspace()\n",
    "str=\" \"\n",
    "print(str.isspace())\n",
    "\n",
    "\n",
    "#istitle()\n",
    "str=\"Hello, And Welcome To My World!\"\n",
    "print(str.istitle())\n",
    "\n",
    "# isupper()\n",
    "str=\"HELLO WORLD\"\n",
    "print(str.isupper())"
   ]
  },
  {
   "cell_type": "code",
   "execution_count": 50,
   "metadata": {},
   "outputs": [
    {
     "name": "stdout",
     "output_type": "stream",
     "text": [
      "John#Peter#Vicky\n",
      "helloooooooooooooooooooooooooo my name is\n"
     ]
    }
   ],
   "source": [
    "# join()\n",
    "str= (\"John\", \"Peter\", \"Vicky\")\n",
    "print(\"#\".join(str))\n",
    "\n",
    "# ljust()\n",
    "str=\"hello\"\n",
    "x=str.ljust(30,\"o\")\n",
    "print(x,\"my name is\")"
   ]
  },
  {
   "cell_type": "code",
   "execution_count": 18,
   "metadata": {},
   "outputs": [
    {
     "name": "stdout",
     "output_type": "stream",
     "text": [
      "hello my friends\n",
      "all of you hello     my name is r\n",
      "banana\n",
      "hello rae\n",
      "('I could ', 'eat', ' bananas all day')\n",
      "i don't like turkey\n",
      "9\n"
     ]
    }
   ],
   "source": [
    "#lower()\n",
    "str=\"Hello my FRIENDS\"\n",
    "print(str.lower())\n",
    "\n",
    "# lstrip()\n",
    "str=\"    hello    \"\n",
    "x=str.lstrip()\n",
    "print(\"all of you\",x,\"my name is r\")\n",
    "str1=\",,,,,ssaaww.....banana\"\n",
    "print(str1.lstrip(\",.asw\"))\n",
    "\n",
    "# maketrans()\n",
    "str=\"hello ram\"\n",
    "x=str.maketrans(\"m\",\"e\")\n",
    "print(str.translate(x))\n",
    "\n",
    "# partition()\n",
    "str= \"I could eat bananas all day\"\n",
    "print(str.partition(\"eat\"))\n",
    "\n",
    "# replace()\n",
    "str=\"i like turkey\"\n",
    "print(str.replace(\"like\",\"don't like\"))\n",
    "\n",
    "# rfind()\n",
    "str=\"Mi casa, su casa.\"\n",
    "x=str.rfind(\"su\")\n",
    "print(x)\n",
    "\n",
    "\n"
   ]
  },
  {
   "cell_type": "code",
   "execution_count": 19,
   "metadata": {},
   "outputs": [
    {
     "ename": "ValueError",
     "evalue": "substring not found",
     "output_type": "error",
     "traceback": [
      "\u001b[1;31m---------------------------------------------------------------------------\u001b[0m",
      "\u001b[1;31mValueError\u001b[0m                                Traceback (most recent call last)",
      "Cell \u001b[1;32mIn[19], line 3\u001b[0m\n\u001b[0;32m      1\u001b[0m \u001b[38;5;66;03m# rindex()\u001b[39;00m\n\u001b[0;32m      2\u001b[0m str1\u001b[38;5;241m=\u001b[39m\u001b[38;5;124m\"\u001b[39m\u001b[38;5;124mMi casa, su casa.\u001b[39m\u001b[38;5;124m\"\u001b[39m\n\u001b[1;32m----> 3\u001b[0m x\u001b[38;5;241m=\u001b[39m\u001b[43mstr1\u001b[49m\u001b[38;5;241;43m.\u001b[39;49m\u001b[43mrindex\u001b[49m\u001b[43m(\u001b[49m\u001b[38;5;124;43m\"\u001b[39;49m\u001b[38;5;124;43mcase\u001b[39;49m\u001b[38;5;124;43m\"\u001b[39;49m\u001b[43m)\u001b[49m\n\u001b[0;32m      4\u001b[0m \u001b[38;5;28mprint\u001b[39m(x)\n",
      "\u001b[1;31mValueError\u001b[0m: substring not found"
     ]
    }
   ],
   "source": [
    "# rindex()\n",
    "str1=\"Mi casa, su casa.\"\n",
    "x=str1.rindex(\"case\")\n",
    "print(x)"
   ]
  },
  {
   "cell_type": "code",
   "execution_count": 24,
   "metadata": {},
   "outputs": [
    {
     "name": "stdout",
     "output_type": "stream",
     "text": [
      "oooooapple\n"
     ]
    }
   ],
   "source": [
    "#  rjust()\n",
    "str=\"apple\"\n",
    "print(str.rjust(10,\"o\"))\n",
    "\n"
   ]
  },
  {
   "cell_type": "code",
   "execution_count": 38,
   "metadata": {},
   "outputs": [
    {
     "name": "stdout",
     "output_type": "stream",
     "text": [
      "('I could eat bananas all day, ', 'banana', 's are my favorite fruit')\n",
      "['apple', ' banana', ' cherry']\n",
      "of all fruits      banana is my favorite\n",
      "['welcome', 'to', 'the', 'jungle']\n",
      "['Thank you for the music', 'Welcome to the jungle']\n"
     ]
    }
   ],
   "source": [
    "# rpartition()\n",
    "str=\"I could eat bananas all day, bananas are my favorite fruit\"\n",
    "print(str.rpartition(\"banana\"))\n",
    "\n",
    "# rsplit()\n",
    "str=\"apple, banana, cherry\"\n",
    "print(str.rsplit(\",\"))\n",
    "\n",
    "# rstrip()\n",
    "str=\"     banana     \"\n",
    "x=str.rstrip()\n",
    "print(\"of all fruits\", x, \"is my favorite\")\n",
    "\n",
    "# split()\n",
    "str=\"welcome to the jungle\"\n",
    "print(str.split())\n",
    "\n",
    "# splitlines()\n",
    "str=\"Thank you for the music\\nWelcome to the jungle\"\n",
    "print(str.splitlines())\n",
    "\n"
   ]
  },
  {
   "cell_type": "code",
   "execution_count": 42,
   "metadata": {},
   "outputs": [
    {
     "ename": "AttributeError",
     "evalue": "'str' object has no attribute 'startwith'",
     "output_type": "error",
     "traceback": [
      "\u001b[1;31m---------------------------------------------------------------------------\u001b[0m",
      "\u001b[1;31mAttributeError\u001b[0m                            Traceback (most recent call last)",
      "Cell \u001b[1;32mIn[42], line 3\u001b[0m\n\u001b[0;32m      1\u001b[0m \u001b[38;5;66;03m# startswith()\u001b[39;00m\n\u001b[0;32m      2\u001b[0m \u001b[38;5;28mstr\u001b[39m\u001b[38;5;241m=\u001b[39m\u001b[38;5;124m\"\u001b[39m\u001b[38;5;124mHello,my name is j.\u001b[39m\u001b[38;5;124m\"\u001b[39m\n\u001b[1;32m----> 3\u001b[0m \u001b[38;5;28mprint\u001b[39m(\u001b[38;5;28;43mstr\u001b[39;49m\u001b[38;5;241;43m.\u001b[39;49m\u001b[43mstartwith\u001b[49m(\u001b[38;5;124m\"\u001b[39m\u001b[38;5;124mHello\u001b[39m\u001b[38;5;124m\"\u001b[39m))\n",
      "\u001b[1;31mAttributeError\u001b[0m: 'str' object has no attribute 'startwith'"
     ]
    }
   ],
   "source": [
    "# startswith()\n",
    "str=\"Hello,my name is j.\"\n",
    "print(str.startwith(\"Hello\"))"
   ]
  },
  {
   "cell_type": "code",
   "execution_count": 50,
   "metadata": {},
   "outputs": [
    {
     "name": "stdout",
     "output_type": "stream",
     "text": [
      "banana\n",
      "HELLO MY name is H\n",
      "Welcom To My World\n",
      "hello ram!\n"
     ]
    }
   ],
   "source": [
    "# strip()\n",
    "str=\"     banana     \"\n",
    "print(str.strip())\n",
    "\n",
    "# swapcase()\n",
    "str=\"hello my NAME IS h\"\n",
    "print(str.swapcase())\n",
    "\n",
    "# title()\n",
    "str=\"welcom to my world\"\n",
    "print(str.title())\n",
    "\n",
    "# translate()\n",
    "mydict={83:80}\n",
    "str=\"hello ram!\"\n",
    "print(str.translate(mydict))\n",
    "\n"
   ]
  },
  {
   "cell_type": "code",
   "execution_count": 51,
   "metadata": {},
   "outputs": [
    {
     "ename": "AttributeError",
     "evalue": "'int' object has no attribute 'zfile'",
     "output_type": "error",
     "traceback": [
      "\u001b[1;31m---------------------------------------------------------------------------\u001b[0m",
      "\u001b[1;31mAttributeError\u001b[0m                            Traceback (most recent call last)",
      "Cell \u001b[1;32mIn[51], line 3\u001b[0m\n\u001b[0;32m      1\u001b[0m \u001b[38;5;66;03m#zfile()\u001b[39;00m\n\u001b[0;32m      2\u001b[0m \u001b[38;5;28mstr\u001b[39m\u001b[38;5;241m=\u001b[39m\u001b[38;5;241m40\u001b[39m\n\u001b[1;32m----> 3\u001b[0m \u001b[38;5;28mprint\u001b[39m(\u001b[38;5;28;43mstr\u001b[39;49m\u001b[38;5;241;43m.\u001b[39;49m\u001b[43mzfile\u001b[49m(\u001b[38;5;241m10\u001b[39m))\n",
      "\u001b[1;31mAttributeError\u001b[0m: 'int' object has no attribute 'zfile'"
     ]
    }
   ],
   "source": [
    "#zfile()\n",
    "str=40\n",
    "print(str.zfile(10))\n",
    "#output 000000000040"
   ]
  }
 ],
 "metadata": {
  "kernelspec": {
   "display_name": "Python 3",
   "language": "python",
   "name": "python3"
  },
  "language_info": {
   "codemirror_mode": {
    "name": "ipython",
    "version": 3
   },
   "file_extension": ".py",
   "mimetype": "text/x-python",
   "name": "python",
   "nbconvert_exporter": "python",
   "pygments_lexer": "ipython3",
   "version": "3.11.1"
  }
 },
 "nbformat": 4,
 "nbformat_minor": 2
}
