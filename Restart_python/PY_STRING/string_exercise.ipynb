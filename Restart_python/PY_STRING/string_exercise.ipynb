{
 "cells": [
  {
   "cell_type": "code",
   "execution_count": 9,
   "metadata": {},
   "outputs": [
    {
     "name": "stdout",
     "output_type": "stream",
     "text": [
      "w3ce\n"
     ]
    }
   ],
   "source": [
    "# Write a Python program to get a string made of the first 2 and last 2 characters of a given string. If the string length is less than 2, return the empty string instead\n",
    "str=\"w3resource\"\n",
    "l=len(str)\n",
    "if l<2:\n",
    "    print(\" \") \n",
    "else:\n",
    "    result=str[:2]+str[-2:]\n",
    "print(result)\n",
    "\n"
   ]
  },
  {
   "cell_type": "code",
   "execution_count": 10,
   "metadata": {},
   "outputs": [
    {
     "name": "stdout",
     "output_type": "stream",
     "text": [
      "11\n"
     ]
    }
   ],
   "source": [
    "# Write a Python program to calculate the length of a string.\n",
    "str=\"hello world\"\n",
    "l=len(str)\n",
    "print(l)"
   ]
  },
  {
   "cell_type": "code",
   "execution_count": 23,
   "metadata": {},
   "outputs": [
    {
     "name": "stdout",
     "output_type": "stream",
     "text": [
      "resta$t\n"
     ]
    }
   ],
   "source": [
    "str1=\"restart\"\n",
    "char=str1[0]\n",
    "result=str1.replace(char,'$')\n",
    "string=char+result[1:]\n",
    "print(string)"
   ]
  },
  {
   "cell_type": "code",
   "execution_count": 26,
   "metadata": {},
   "outputs": [
    {
     "name": "stdout",
     "output_type": "stream",
     "text": [
      "xyc\n",
      "abz\n"
     ]
    }
   ],
   "source": [
    "str='abc'\n",
    "str1='xyz'\n",
    "\n",
    "new_str=str1[:2]+str[-1]\n",
    "new_str1=str[:2]+str1[-1]\n",
    "   \n",
    "print(new_str)\n",
    "print(new_str1)\n"
   ]
  },
  {
   "cell_type": "code",
   "execution_count": 35,
   "metadata": {},
   "outputs": [
    {
     "name": "stdout",
     "output_type": "stream",
     "text": [
      "abcing\n"
     ]
    }
   ],
   "source": [
    "str='abc'\n",
    "l=len(str)\n",
    "if(l>2):\n",
    "    if str[-3:] =='ing':\n",
    "        str+='ly'\n",
    "        \n",
    "    else:\n",
    "        str+='ing'\n",
    "print(str)\n"
   ]
  },
  {
   "cell_type": "code",
   "execution_count": 36,
   "metadata": {},
   "outputs": [
    {
     "name": "stdout",
     "output_type": "stream",
     "text": [
      "7\n"
     ]
    }
   ],
   "source": [
    "def find_longest_word(word_list):\n",
    "    maxlenth=0\n",
    "    for i in list:\n",
    "        length=len(i)\n",
    "        if length>maxlenth:\n",
    "            maxlenth=length\n",
    "    return maxlenth\n",
    "list=['ab','jhbdhcd','iuwgdj','i']\n",
    "a=find_longest_word(list)\n",
    "print(a)\n",
    "\n"
   ]
  },
  {
   "cell_type": "code",
   "execution_count": 3,
   "metadata": {},
   "outputs": [
    {
     "name": "stdout",
     "output_type": "stream",
     "text": [
      "pytho\n"
     ]
    }
   ],
   "source": [
    "# Write a Python program to remove the nth index character from a nonempty string\n",
    "str=\"python\"\n",
    "n=int(input(\"Enter your number!!\"))\n",
    "first=str[:n]\n",
    "last=str[n+1:]\n",
    "result=first+last\n",
    "print(result)\n"
   ]
  },
  {
   "cell_type": "code",
   "execution_count": 6,
   "metadata": {},
   "outputs": [
    {
     "name": "stdout",
     "output_type": "stream",
     "text": [
      "nythop\n"
     ]
    }
   ],
   "source": [
    "# Write a Python program to change a given string to a newly string where the first and last chars have been exchanged.\n",
    "str=\"python\"\n",
    "result=str[-1]+str[1:-1]+str[0]\n",
    "print(result)"
   ]
  },
  {
   "cell_type": "code",
   "execution_count": 14,
   "metadata": {},
   "outputs": [
    {
     "name": "stdout",
     "output_type": "stream",
     "text": [
      "pto"
     ]
    }
   ],
   "source": [
    "# Write a Python program to remove characters that have odd index values in a given string.\n",
    "str=\"python\"\n",
    "result=\"\"\n",
    "for i in range(len(str)):\n",
    "    if i%2==0:\n",
    "        print(str[i],end='')\n",
    "        \n",
    "# for i in str[0:-1:2]:  #index through\n",
    "#     print(i,end='')\n",
    "        "
   ]
  },
  {
   "cell_type": "code",
   "execution_count": 19,
   "metadata": {},
   "outputs": [
    {
     "name": "stdout",
     "output_type": "stream",
     "text": [
      "Count of the word is:\n",
      "1\n"
     ]
    }
   ],
   "source": [
    "string=input(\"Enter string:\")\n",
    "word=input(\"Enter word:\")\n",
    "a=[]\n",
    "count=0\n",
    "a=string.split(\" \")\n",
    "for i in range(0,len(a)):\n",
    "      if(word==a[i]):\n",
    "            count=count+1\n",
    "print(\"Count of the word is:\")\n",
    "print(count)"
   ]
  },
  {
   "cell_type": "code",
   "execution_count": 23,
   "metadata": {},
   "outputs": [
    {
     "name": "stdout",
     "output_type": "stream",
     "text": [
      "world the to welcom\n"
     ]
    }
   ],
   "source": [
    "# Reverse the words in the given string program \n",
    "str=\"welcom to the world\"\n",
    "s=str.split()[::-1]\n",
    "new_str=[]\n",
    "for i in s:\n",
    "    new_str.append(i)\n",
    "print(\" \".join(new_str))"
   ]
  },
  {
   "cell_type": "code",
   "execution_count": 24,
   "metadata": {},
   "outputs": [
    {
     "name": "stdout",
     "output_type": "stream",
     "text": [
      "pyhon\n"
     ]
    }
   ],
   "source": [
    "# Remove Letters From a String Using the Native Method\n",
    "str=\"python\"\n",
    "new_str=\"\"\n",
    "for i in range(len(str)):\n",
    "    if i!=2:\n",
    "        new_str+=str[i]\n",
    "print(new_str)"
   ]
  },
  {
   "cell_type": "code",
   "execution_count": 1,
   "metadata": {},
   "outputs": [
    {
     "name": "stdout",
     "output_type": "stream",
     "text": [
      "0\n",
      "1\n",
      "0\n",
      "4\n"
     ]
    }
   ],
   "source": [
    "# convert numeric words to numbers\n",
    "dict={'one':'1','two':'2','three':'3','four':'4','five':'5','six':'6','seven':'7','eight':'8','nine':'9','zero':'0'}\n",
    "str=\"zero one zero four\"\n",
    "for i in str.split():\n",
    "    print(''.join(dict[i]))\n",
    "    \n"
   ]
  },
  {
   "cell_type": "code",
   "execution_count": 9,
   "metadata": {},
   "outputs": [
    {
     "ename": "TypeError",
     "evalue": "'str' object is not callable",
     "output_type": "error",
     "traceback": [
      "\u001b[1;31m---------------------------------------------------------------------------\u001b[0m",
      "\u001b[1;31mTypeError\u001b[0m                                 Traceback (most recent call last)",
      "Cell \u001b[1;32mIn[9], line 7\u001b[0m\n\u001b[0;32m      4\u001b[0m new_str\u001b[38;5;241m=\u001b[39mstr_1\u001b[38;5;241m.\u001b[39msplit()\n\u001b[0;32m      5\u001b[0m result\u001b[38;5;241m=\u001b[39mnew_str\u001b[38;5;241m.\u001b[39mindex(word)\u001b[38;5;241m+\u001b[39m\u001b[38;5;241m1\u001b[39m\n\u001b[1;32m----> 7\u001b[0m \u001b[38;5;28mprint\u001b[39m(\u001b[38;5;28;43mstr\u001b[39;49m\u001b[43m(\u001b[49m\u001b[43mresult\u001b[49m\u001b[43m)\u001b[49m)\n",
      "\u001b[1;31mTypeError\u001b[0m: 'str' object is not callable"
     ]
    }
   ],
   "source": [
    "# Word location in String\n",
    "str_1='hello my name is k'\n",
    "word=\"name\"\n",
    "new_str=str_1.split()\n",
    "result=new_str.index(word)+1\n",
    "\n",
    "print(str(result))"
   ]
  },
  {
   "cell_type": "code",
   "execution_count": 12,
   "metadata": {},
   "outputs": [
    {
     "ename": "TypeError",
     "evalue": "'str' object is not callable",
     "output_type": "error",
     "traceback": [
      "\u001b[1;31m---------------------------------------------------------------------------\u001b[0m",
      "\u001b[1;31mTypeError\u001b[0m                                 Traceback (most recent call last)",
      "Cell \u001b[1;32mIn[12], line 4\u001b[0m\n\u001b[0;32m      2\u001b[0m new_str\u001b[38;5;241m=\u001b[39m\u001b[38;5;124m'\u001b[39m\u001b[38;5;124mgeeksforgeeks 33 is   best\u001b[39m\u001b[38;5;124m'\u001b[39m\n\u001b[0;32m      3\u001b[0m result\u001b[38;5;241m=\u001b[39m\u001b[38;5;28msum\u001b[39m(\u001b[38;5;28mmap\u001b[39m(\u001b[38;5;28mlen\u001b[39m,new_str\u001b[38;5;241m.\u001b[39msplit()))\n\u001b[1;32m----> 4\u001b[0m x\u001b[38;5;241m=\u001b[39m\u001b[38;5;28;43mstr\u001b[39;49m\u001b[43m(\u001b[49m\u001b[43mresult\u001b[49m\u001b[43m)\u001b[49m\n\u001b[0;32m      5\u001b[0m \u001b[38;5;28mprint\u001b[39m(x)\n",
      "\u001b[1;31mTypeError\u001b[0m: 'str' object is not callable"
     ]
    }
   ],
   "source": [
    "# Avoid Spaces in string length\n",
    "new_str='geeksforgeeks 33 is   best'\n",
    "result=sum(map(len,new_str.split()))\n",
    "print(str(result))\n",
    "\n"
   ]
  },
  {
   "cell_type": "code",
   "execution_count": 13,
   "metadata": {},
   "outputs": [
    {
     "name": "stdout",
     "output_type": "stream",
     "text": [
      "this\n",
      "is\n",
      "python\n",
      "language\n"
     ]
    }
   ],
   "source": [
    "\n",
    "# Python program to print even length words in a string\n",
    "str=\"this is python language\"\n",
    "new_str=str.split(\" \")\n",
    "for i in new_str:\n",
    "    if len(i)%2==0:\n",
    "        print(i)\n"
   ]
  },
  {
   "cell_type": "code",
   "execution_count": null,
   "metadata": {},
   "outputs": [],
   "source": []
  }
 ],
 "metadata": {
  "kernelspec": {
   "display_name": "Python 3",
   "language": "python",
   "name": "python3"
  },
  "language_info": {
   "codemirror_mode": {
    "name": "ipython",
    "version": 3
   },
   "file_extension": ".py",
   "mimetype": "text/x-python",
   "name": "python",
   "nbconvert_exporter": "python",
   "pygments_lexer": "ipython3",
   "version": "3.11.1"
  }
 },
 "nbformat": 4,
 "nbformat_minor": 2
}
